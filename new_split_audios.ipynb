{
 "cells": [
  {
   "attachments": {},
   "cell_type": "markdown",
   "metadata": {},
   "source": [
    "## Function to create individual audios with dog sounds \n"
   ]
  },
  {
   "cell_type": "code",
   "execution_count": 126,
   "metadata": {},
   "outputs": [],
   "source": [
    "#Requirements \n",
    "import pandas as pd\n",
    "import numpy as np\n",
    "\n",
    "import pydub\n",
    "from pydub import AudioSegment\n",
    "\n",
    "import os"
   ]
  },
  {
   "cell_type": "code",
   "execution_count": 127,
   "metadata": {},
   "outputs": [],
   "source": [
    "def split_audios (df):\n",
    "    \"\"\"\n",
    "    The function will recieve a dataframe that contains the start time, end time and lable (type of sound).\n",
    "    \n",
    "    It will take the information from the waf files and create a new audio with only the bark sound\n",
    "    \n",
    "    Function will return a folder with small audios \n",
    "    \"\"\"\n",
    "    \n",
    "    diction = {\"start\": [89, 80], \"end\": [92, 100], \"Lables\": [\"bark\", \"bark\"], \"file_name\": [\"hola.wav\", \"hola_1.wav\"]}\n",
    "    df = pd.DataFrame.from_dict(diction)\n",
    "    \n",
    "    for i in range(400):\n",
    "        t1 = df[\"start\"][i]*1000\n",
    "        t2 = df[\"end\"][i]*1000\n",
    "        \n",
    "        #adapt path\n",
    "        path = f'examples/{diction[\"file_name\"[i]]}'\n",
    "        newAudio = AudioSegment.from_wav(file=path)\n",
    "        \n",
    "        newAudio = newAudio[t1:t2] \n",
    "        \n",
    "        #Create a new folder to save all the snippets \n",
    "        if not os.path.exist(\"snippets\"):\n",
    "            os.mkdir(\"snippets\")\n",
    "        \n",
    "        #save the snippet in a folder   \n",
    "        newAudio.export(f'snippets/{df[\"Lables\"][i]}{i}.wav', format=\"wav\")\n",
    " \n",
    "    return None "
   ]
  },
  {
   "attachments": {},
   "cell_type": "markdown",
   "metadata": {},
   "source": [
    "# Construction of the function by pieces "
   ]
  },
  {
   "cell_type": "code",
   "execution_count": 117,
   "metadata": {},
   "outputs": [],
   "source": [
    "#Example \n",
    "path = \"experiments/experiment_test.wav\"\n",
    "diction = {\"start\": [89, 80], \"end\": [92, 100], \"Lables\": [\"bark\", \"bark\"], \"file_name\": [\"hola.wav\", \"hola_1.wav\"]}"
   ]
  },
  {
   "cell_type": "code",
   "execution_count": 120,
   "metadata": {},
   "outputs": [
    {
     "data": {
      "text/html": [
       "<div>\n",
       "<style scoped>\n",
       "    .dataframe tbody tr th:only-of-type {\n",
       "        vertical-align: middle;\n",
       "    }\n",
       "\n",
       "    .dataframe tbody tr th {\n",
       "        vertical-align: top;\n",
       "    }\n",
       "\n",
       "    .dataframe thead th {\n",
       "        text-align: right;\n",
       "    }\n",
       "</style>\n",
       "<table border=\"1\" class=\"dataframe\">\n",
       "  <thead>\n",
       "    <tr style=\"text-align: right;\">\n",
       "      <th></th>\n",
       "      <th>start</th>\n",
       "      <th>end</th>\n",
       "      <th>Lables</th>\n",
       "      <th>file_name</th>\n",
       "    </tr>\n",
       "  </thead>\n",
       "  <tbody>\n",
       "    <tr>\n",
       "      <th>0</th>\n",
       "      <td>89</td>\n",
       "      <td>92</td>\n",
       "      <td>bark</td>\n",
       "      <td>hola.wav</td>\n",
       "    </tr>\n",
       "    <tr>\n",
       "      <th>1</th>\n",
       "      <td>80</td>\n",
       "      <td>100</td>\n",
       "      <td>bark</td>\n",
       "      <td>hola_1.wav</td>\n",
       "    </tr>\n",
       "  </tbody>\n",
       "</table>\n",
       "</div>"
      ],
      "text/plain": [
       "   start  end Lables   file_name\n",
       "0     89   92   bark    hola.wav\n",
       "1     80  100   bark  hola_1.wav"
      ]
     },
     "execution_count": 120,
     "metadata": {},
     "output_type": "execute_result"
    }
   ],
   "source": [
    "#df has a start and end in seconds \n",
    "#The dataframe can contain the path or the file name\n",
    "df = pd.DataFrame.from_dict(diction)\n",
    "df\n",
    "\n"
   ]
  },
  {
   "cell_type": "code",
   "execution_count": 124,
   "metadata": {},
   "outputs": [
    {
     "data": {
      "text/plain": [
       "80000"
      ]
     },
     "execution_count": 124,
     "metadata": {},
     "output_type": "execute_result"
    }
   ],
   "source": [
    "#iteration\n",
    "i=1\n",
    "\n",
    "#take time and pass it to milli seconds\n",
    "t1 = df[\"start\"][0]*1000\n",
    "t2 = df[\"end\"][0]*1000\n",
    "\n",
    "\n",
    "#adapt path\n",
    "path = f'examples/{diction[\"file_name\"]}'\n",
    "diction['file_name']\n",
    "t1"
   ]
  },
  {
   "cell_type": "code",
   "execution_count": 113,
   "metadata": {},
   "outputs": [],
   "source": [
    "newAudio = AudioSegment.from_wav(file=path)"
   ]
  },
  {
   "cell_type": "code",
   "execution_count": 114,
   "metadata": {},
   "outputs": [
    {
     "data": {
      "text/plain": [
       "<_io.BufferedRandom name='bark1.wav'>"
      ]
     },
     "execution_count": 114,
     "metadata": {},
     "output_type": "execute_result"
    }
   ],
   "source": [
    "newAudio = newAudio[t1:t2] \n",
    "newAudio.export(f'{df[\"Lables\"][0]}{i}.wav', format=\"wav\")"
   ]
  }
 ],
 "metadata": {
  "kernelspec": {
   "display_name": "taxifare-env",
   "language": "python",
   "name": "python3"
  },
  "language_info": {
   "codemirror_mode": {
    "name": "ipython",
    "version": 3
   },
   "file_extension": ".py",
   "mimetype": "text/x-python",
   "name": "python",
   "nbconvert_exporter": "python",
   "pygments_lexer": "ipython3",
   "version": "3.10.6"
  },
  "orig_nbformat": 4
 },
 "nbformat": 4,
 "nbformat_minor": 2
}
