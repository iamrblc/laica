{
 "cells": [
  {
   "cell_type": "markdown",
   "metadata": {},
   "source": [
    "# SNIPPET HANDLING"
   ]
  },
  {
   "attachments": {},
   "cell_type": "markdown",
   "metadata": {},
   "source": [
    "## Imports"
   ]
  },
  {
   "cell_type": "code",
   "execution_count": 95,
   "metadata": {},
   "outputs": [],
   "source": [
    "# Framework\n",
    "import torch\n",
    "\n",
    "# Data handling\n",
    "import pandas as pd\n",
    "import numpy as np\n",
    "\n",
    "# Visualization\n",
    "import matplotlib.pyplot as plt\n",
    "import plotly.express as px\n",
    "\n",
    "# File handling\n",
    "import os\n",
    "\n",
    "#Audio manipulation\n",
    "import torchaudio\n",
    "from pydub import AudioSegment"
   ]
  },
  {
   "cell_type": "code",
   "execution_count": 96,
   "metadata": {},
   "outputs": [
    {
     "name": "stdout",
     "output_type": "stream",
     "text": [
      "torch: 1.13.1\n",
      "torch audio: 0.13.1\n"
     ]
    }
   ],
   "source": [
    "print(f'torch: {torch.__version__}')\n",
    "print(f'torch audio: {torchaudio.__version__}')"
   ]
  },
  {
   "cell_type": "code",
   "execution_count": 97,
   "metadata": {},
   "outputs": [],
   "source": [
    "# TEST PATH\n",
    "folder = '/Users/rblc/code/iamrblc/laica/examples/preprocess_samples'\n",
    "\n",
    "# LIVE PATH\n",
    "#folder = '/Users/rblc/code/iamrblc/laica/examples/snippets'"
   ]
  },
  {
   "attachments": {},
   "cell_type": "markdown",
   "metadata": {},
   "source": [
    "## Creating snippet dataframe"
   ]
  },
  {
   "cell_type": "code",
   "execution_count": 98,
   "metadata": {},
   "outputs": [],
   "source": [
    "# Define a function to extract the required properties from an audio file\n",
    "def get_audio_properties(filename):\n",
    "    waveform, sample_rate = torchaudio.load(filename)\n",
    "    length = waveform.shape[1] / sample_rate\n",
    "    num_channels = waveform.shape[0]\n",
    "    bitrate = torchaudio.info(filename).bits_per_sample\n",
    "\n",
    "    return length, num_channels, bitrate"
   ]
  },
  {
   "cell_type": "code",
   "execution_count": 99,
   "metadata": {},
   "outputs": [
    {
     "ename": "FileNotFoundError",
     "evalue": "[Errno 2] No such file or directory: '/Users/rblc/code/iamrblc/laica/examples/preprocess_samples'",
     "output_type": "error",
     "traceback": [
      "\u001b[0;31m---------------------------------------------------------------------------\u001b[0m",
      "\u001b[0;31mFileNotFoundError\u001b[0m                         Traceback (most recent call last)",
      "Cell \u001b[0;32mIn[99], line 5\u001b[0m\n\u001b[1;32m      2\u001b[0m df \u001b[39m=\u001b[39m pd\u001b[39m.\u001b[39mDataFrame(columns\u001b[39m=\u001b[39m[\u001b[39m\"\u001b[39m\u001b[39mfile_name\u001b[39m\u001b[39m\"\u001b[39m, \u001b[39m\"\u001b[39m\u001b[39mlength\u001b[39m\u001b[39m\"\u001b[39m, \u001b[39m\"\u001b[39m\u001b[39mnum_channels\u001b[39m\u001b[39m\"\u001b[39m, \u001b[39m\"\u001b[39m\u001b[39mbitrate\u001b[39m\u001b[39m\"\u001b[39m])\n\u001b[1;32m      4\u001b[0m \u001b[39m# Iterate over the audio files in the folder and extract their properties\u001b[39;00m\n\u001b[0;32m----> 5\u001b[0m \u001b[39mfor\u001b[39;00m filename \u001b[39min\u001b[39;00m os\u001b[39m.\u001b[39;49mlistdir(folder):\n\u001b[1;32m      6\u001b[0m     \u001b[39mif\u001b[39;00m filename\u001b[39m.\u001b[39mendswith(\u001b[39m\"\u001b[39m\u001b[39m.wav\u001b[39m\u001b[39m\"\u001b[39m):\n\u001b[1;32m      7\u001b[0m         filepath \u001b[39m=\u001b[39m os\u001b[39m.\u001b[39mpath\u001b[39m.\u001b[39mjoin(folder, filename)\n",
      "\u001b[0;31mFileNotFoundError\u001b[0m: [Errno 2] No such file or directory: '/Users/rblc/code/iamrblc/laica/examples/preprocess_samples'"
     ]
    }
   ],
   "source": [
    "# Create an empty pandas dataframe to store the properties\n",
    "df = pd.DataFrame(columns=[\"file_name\", \"length\", \"num_channels\", \"bitrate\"])\n",
    "\n",
    "# Iterate over the audio files in the folder and extract their properties\n",
    "for filename in os.listdir(folder):\n",
    "    if filename.endswith(\".wav\"):\n",
    "        filepath = os.path.join(folder, filename)\n",
    "        length, num_channels, bitrate = get_audio_properties(filepath)\n",
    "        df = df.append({\"file_name\": filename, \"length\": length, \"num_channels\": num_channels, \"bitrate\": bitrate}, ignore_index=True)"
   ]
  },
  {
   "attachments": {},
   "cell_type": "markdown",
   "metadata": {},
   "source": [
    "## Checking dataframe properties before audio preprocess"
   ]
  },
  {
   "cell_type": "code",
   "execution_count": null,
   "metadata": {},
   "outputs": [
    {
     "data": {
      "text/html": [
       "<div>\n",
       "<style scoped>\n",
       "    .dataframe tbody tr th:only-of-type {\n",
       "        vertical-align: middle;\n",
       "    }\n",
       "\n",
       "    .dataframe tbody tr th {\n",
       "        vertical-align: top;\n",
       "    }\n",
       "\n",
       "    .dataframe thead th {\n",
       "        text-align: right;\n",
       "    }\n",
       "</style>\n",
       "<table border=\"1\" class=\"dataframe\">\n",
       "  <thead>\n",
       "    <tr style=\"text-align: right;\">\n",
       "      <th></th>\n",
       "      <th>file_name</th>\n",
       "      <th>length</th>\n",
       "      <th>num_channels</th>\n",
       "      <th>bitrate</th>\n",
       "    </tr>\n",
       "  </thead>\n",
       "  <tbody>\n",
       "    <tr>\n",
       "      <th>0</th>\n",
       "      <td>whine_14124.wav</td>\n",
       "      <td>1.398912</td>\n",
       "      <td>1</td>\n",
       "      <td>16</td>\n",
       "    </tr>\n",
       "    <tr>\n",
       "      <th>1</th>\n",
       "      <td>whine_14092.wav</td>\n",
       "      <td>0.600000</td>\n",
       "      <td>1</td>\n",
       "      <td>16</td>\n",
       "    </tr>\n",
       "    <tr>\n",
       "      <th>2</th>\n",
       "      <td>whine_14086.wav</td>\n",
       "      <td>0.941043</td>\n",
       "      <td>1</td>\n",
       "      <td>16</td>\n",
       "    </tr>\n",
       "    <tr>\n",
       "      <th>3</th>\n",
       "      <td>bark_01283.wav</td>\n",
       "      <td>0.223991</td>\n",
       "      <td>1</td>\n",
       "      <td>16</td>\n",
       "    </tr>\n",
       "    <tr>\n",
       "      <th>4</th>\n",
       "      <td>whine_15871.wav</td>\n",
       "      <td>0.400000</td>\n",
       "      <td>1</td>\n",
       "      <td>16</td>\n",
       "    </tr>\n",
       "  </tbody>\n",
       "</table>\n",
       "</div>"
      ],
      "text/plain": [
       "         file_name    length num_channels bitrate\n",
       "0  whine_14124.wav  1.398912            1      16\n",
       "1  whine_14092.wav  0.600000            1      16\n",
       "2  whine_14086.wav  0.941043            1      16\n",
       "3   bark_01283.wav  0.223991            1      16\n",
       "4  whine_15871.wav  0.400000            1      16"
      ]
     },
     "execution_count": 94,
     "metadata": {},
     "output_type": "execute_result"
    }
   ],
   "source": [
    "df.head()"
   ]
  },
  {
   "cell_type": "code",
   "execution_count": null,
   "metadata": {},
   "outputs": [
    {
     "data": {
      "text/html": [
       "<div>\n",
       "<style scoped>\n",
       "    .dataframe tbody tr th:only-of-type {\n",
       "        vertical-align: middle;\n",
       "    }\n",
       "\n",
       "    .dataframe tbody tr th {\n",
       "        vertical-align: top;\n",
       "    }\n",
       "\n",
       "    .dataframe thead th {\n",
       "        text-align: right;\n",
       "    }\n",
       "</style>\n",
       "<table border=\"1\" class=\"dataframe\">\n",
       "  <thead>\n",
       "    <tr style=\"text-align: right;\">\n",
       "      <th></th>\n",
       "      <th>length</th>\n",
       "    </tr>\n",
       "  </thead>\n",
       "  <tbody>\n",
       "    <tr>\n",
       "      <th>count</th>\n",
       "      <td>6.000000</td>\n",
       "    </tr>\n",
       "    <tr>\n",
       "      <th>mean</th>\n",
       "      <td>1.327324</td>\n",
       "    </tr>\n",
       "    <tr>\n",
       "      <th>std</th>\n",
       "      <td>1.562175</td>\n",
       "    </tr>\n",
       "    <tr>\n",
       "      <th>min</th>\n",
       "      <td>0.223991</td>\n",
       "    </tr>\n",
       "    <tr>\n",
       "      <th>25%</th>\n",
       "      <td>0.450000</td>\n",
       "    </tr>\n",
       "    <tr>\n",
       "      <th>50%</th>\n",
       "      <td>0.770522</td>\n",
       "    </tr>\n",
       "    <tr>\n",
       "      <th>75%</th>\n",
       "      <td>1.284444</td>\n",
       "    </tr>\n",
       "    <tr>\n",
       "      <th>max</th>\n",
       "      <td>4.400000</td>\n",
       "    </tr>\n",
       "  </tbody>\n",
       "</table>\n",
       "</div>"
      ],
      "text/plain": [
       "         length\n",
       "count  6.000000\n",
       "mean   1.327324\n",
       "std    1.562175\n",
       "min    0.223991\n",
       "25%    0.450000\n",
       "50%    0.770522\n",
       "75%    1.284444\n",
       "max    4.400000"
      ]
     },
     "execution_count": 86,
     "metadata": {},
     "output_type": "execute_result"
    }
   ],
   "source": [
    "df.describe()"
   ]
  },
  {
   "cell_type": "code",
   "execution_count": null,
   "metadata": {},
   "outputs": [
    {
     "data": {
      "text/plain": [
       "1    4\n",
       "2    2\n",
       "Name: num_channels, dtype: int64"
      ]
     },
     "execution_count": 87,
     "metadata": {},
     "output_type": "execute_result"
    }
   ],
   "source": [
    "df.num_channels.value_counts()"
   ]
  },
  {
   "cell_type": "code",
   "execution_count": null,
   "metadata": {},
   "outputs": [
    {
     "data": {
      "text/plain": [
       "32    3\n",
       "16    3\n",
       "Name: bitrate, dtype: int64"
      ]
     },
     "execution_count": 75,
     "metadata": {},
     "output_type": "execute_result"
    }
   ],
   "source": [
    "df.bitrate.value_counts()"
   ]
  },
  {
   "attachments": {},
   "cell_type": "markdown",
   "metadata": {},
   "source": [
    "## Audio preprocessing I. - General formatting"
   ]
  },
  {
   "cell_type": "code",
   "execution_count": null,
   "metadata": {},
   "outputs": [],
   "source": [
    "def preprocess(row):\n",
    "    # Load the audio file\n",
    "    audio = AudioSegment.from_file(os.path.join(folder, row['file_name']), format=\"wav\")\n",
    "    \n",
    "    # Check if 32 bit and convert to 16 bit if necessary\n",
    "    if audio.sample_width == 4:\n",
    "        audio = audio.set_sample_width(2)\n",
    "    \n",
    "    # Check if stereo and convert to mono if necessary\n",
    "    if audio.channels == 2:\n",
    "        audio = audio.set_channels(1)\n",
    "    \n",
    "    # Save the preprocessed audio file\n",
    "    #output_file = os.path.splitext(row['file_name'])[0] + \".wav\"\n",
    "    #audio.export(os.path.join(folder, output_file), format=\"wav\")\n",
    "    \n",
    "    output_file = os.path.splitext(row['file_name'])[0] + \".wav\"\n",
    "    output_path = os.path.join(folder, 'snippets_preproc', output_file)\n",
    "    audio.export(output_path, format=\"wav\")\n",
    "    return output_path\n",
    "\n",
    "df['output_file'] = df.apply(preprocess, axis=1)"
   ]
  },
  {
   "cell_type": "code",
   "execution_count": null,
   "metadata": {},
   "outputs": [
    {
     "data": {
      "text/html": [
       "<div>\n",
       "<style scoped>\n",
       "    .dataframe tbody tr th:only-of-type {\n",
       "        vertical-align: middle;\n",
       "    }\n",
       "\n",
       "    .dataframe tbody tr th {\n",
       "        vertical-align: top;\n",
       "    }\n",
       "\n",
       "    .dataframe thead th {\n",
       "        text-align: right;\n",
       "    }\n",
       "</style>\n",
       "<table border=\"1\" class=\"dataframe\">\n",
       "  <thead>\n",
       "    <tr style=\"text-align: right;\">\n",
       "      <th></th>\n",
       "      <th>file_name</th>\n",
       "      <th>length</th>\n",
       "      <th>num_channels</th>\n",
       "      <th>bitrate</th>\n",
       "      <th>output_file</th>\n",
       "    </tr>\n",
       "  </thead>\n",
       "  <tbody>\n",
       "    <tr>\n",
       "      <th>0</th>\n",
       "      <td>whine_14124.wav</td>\n",
       "      <td>1.398912</td>\n",
       "      <td>1</td>\n",
       "      <td>32</td>\n",
       "      <td>whine_14124</td>\n",
       "    </tr>\n",
       "    <tr>\n",
       "      <th>1</th>\n",
       "      <td>whine_14092.wav</td>\n",
       "      <td>0.600000</td>\n",
       "      <td>1</td>\n",
       "      <td>32</td>\n",
       "      <td>whine_14092</td>\n",
       "    </tr>\n",
       "    <tr>\n",
       "      <th>2</th>\n",
       "      <td>whine_14086.wav</td>\n",
       "      <td>0.941043</td>\n",
       "      <td>1</td>\n",
       "      <td>32</td>\n",
       "      <td>whine_14086</td>\n",
       "    </tr>\n",
       "    <tr>\n",
       "      <th>3</th>\n",
       "      <td>bark_01283.wav</td>\n",
       "      <td>0.223991</td>\n",
       "      <td>1</td>\n",
       "      <td>16</td>\n",
       "      <td>bark_01283</td>\n",
       "    </tr>\n",
       "    <tr>\n",
       "      <th>4</th>\n",
       "      <td>whine_15871.wav</td>\n",
       "      <td>0.400000</td>\n",
       "      <td>2</td>\n",
       "      <td>16</td>\n",
       "      <td>whine_15871</td>\n",
       "    </tr>\n",
       "    <tr>\n",
       "      <th>5</th>\n",
       "      <td>pant_10388.wav</td>\n",
       "      <td>4.400000</td>\n",
       "      <td>2</td>\n",
       "      <td>16</td>\n",
       "      <td>pant_10388</td>\n",
       "    </tr>\n",
       "  </tbody>\n",
       "</table>\n",
       "</div>"
      ],
      "text/plain": [
       "         file_name    length num_channels bitrate  output_file\n",
       "0  whine_14124.wav  1.398912            1      32  whine_14124\n",
       "1  whine_14092.wav  0.600000            1      32  whine_14092\n",
       "2  whine_14086.wav  0.941043            1      32  whine_14086\n",
       "3   bark_01283.wav  0.223991            1      16   bark_01283\n",
       "4  whine_15871.wav  0.400000            2      16  whine_15871\n",
       "5   pant_10388.wav  4.400000            2      16   pant_10388"
      ]
     },
     "execution_count": 78,
     "metadata": {},
     "output_type": "execute_result"
    }
   ],
   "source": [
    "df"
   ]
  },
  {
   "cell_type": "code",
   "execution_count": null,
   "metadata": {},
   "outputs": [
    {
     "name": "stderr",
     "output_type": "stream",
     "text": [
      "/var/folders/x2/6gs4vmmn5bxgqplmvj03kx240000gn/T/ipykernel_2885/3847368972.py:9: FutureWarning: The frame.append method is deprecated and will be removed from pandas in a future version. Use pandas.concat instead.\n",
      "  df = df.append({\"file_name\": filename, \"length\": length, \"num_channels\": num_channels, \"bitrate\": bitrate}, ignore_index=True)\n",
      "/var/folders/x2/6gs4vmmn5bxgqplmvj03kx240000gn/T/ipykernel_2885/3847368972.py:9: FutureWarning: The frame.append method is deprecated and will be removed from pandas in a future version. Use pandas.concat instead.\n",
      "  df = df.append({\"file_name\": filename, \"length\": length, \"num_channels\": num_channels, \"bitrate\": bitrate}, ignore_index=True)\n",
      "/var/folders/x2/6gs4vmmn5bxgqplmvj03kx240000gn/T/ipykernel_2885/3847368972.py:9: FutureWarning: The frame.append method is deprecated and will be removed from pandas in a future version. Use pandas.concat instead.\n",
      "  df = df.append({\"file_name\": filename, \"length\": length, \"num_channels\": num_channels, \"bitrate\": bitrate}, ignore_index=True)\n",
      "/var/folders/x2/6gs4vmmn5bxgqplmvj03kx240000gn/T/ipykernel_2885/3847368972.py:9: FutureWarning: The frame.append method is deprecated and will be removed from pandas in a future version. Use pandas.concat instead.\n",
      "  df = df.append({\"file_name\": filename, \"length\": length, \"num_channels\": num_channels, \"bitrate\": bitrate}, ignore_index=True)\n",
      "/var/folders/x2/6gs4vmmn5bxgqplmvj03kx240000gn/T/ipykernel_2885/3847368972.py:9: FutureWarning: The frame.append method is deprecated and will be removed from pandas in a future version. Use pandas.concat instead.\n",
      "  df = df.append({\"file_name\": filename, \"length\": length, \"num_channels\": num_channels, \"bitrate\": bitrate}, ignore_index=True)\n",
      "/var/folders/x2/6gs4vmmn5bxgqplmvj03kx240000gn/T/ipykernel_2885/3847368972.py:9: FutureWarning: The frame.append method is deprecated and will be removed from pandas in a future version. Use pandas.concat instead.\n",
      "  df = df.append({\"file_name\": filename, \"length\": length, \"num_channels\": num_channels, \"bitrate\": bitrate}, ignore_index=True)\n"
     ]
    }
   ],
   "source": [
    "# Create an empty pandas dataframe to store the properties\n",
    "df = pd.DataFrame(columns=[\"file_name\", \"length\", \"num_channels\", \"bitrate\"])\n",
    "\n",
    "# Iterate over the audio files in the folder and extract their properties\n",
    "for filename in os.listdir(folder):\n",
    "    if filename.endswith(\".wav\"):\n",
    "        filepath = os.path.join(folder, filename)\n",
    "        length, num_channels, bitrate = get_audio_properties(filepath)\n",
    "        df = df.append({\"file_name\": filename, \"length\": length, \"num_channels\": num_channels, \"bitrate\": bitrate}, ignore_index=True)"
   ]
  },
  {
   "cell_type": "code",
   "execution_count": null,
   "metadata": {},
   "outputs": [
    {
     "data": {
      "text/html": [
       "<div>\n",
       "<style scoped>\n",
       "    .dataframe tbody tr th:only-of-type {\n",
       "        vertical-align: middle;\n",
       "    }\n",
       "\n",
       "    .dataframe tbody tr th {\n",
       "        vertical-align: top;\n",
       "    }\n",
       "\n",
       "    .dataframe thead th {\n",
       "        text-align: right;\n",
       "    }\n",
       "</style>\n",
       "<table border=\"1\" class=\"dataframe\">\n",
       "  <thead>\n",
       "    <tr style=\"text-align: right;\">\n",
       "      <th></th>\n",
       "      <th>file_name</th>\n",
       "      <th>length</th>\n",
       "      <th>num_channels</th>\n",
       "      <th>bitrate</th>\n",
       "    </tr>\n",
       "  </thead>\n",
       "  <tbody>\n",
       "    <tr>\n",
       "      <th>0</th>\n",
       "      <td>whine_14124.wav</td>\n",
       "      <td>1.398912</td>\n",
       "      <td>1</td>\n",
       "      <td>32</td>\n",
       "    </tr>\n",
       "    <tr>\n",
       "      <th>1</th>\n",
       "      <td>whine_14092.wav</td>\n",
       "      <td>0.600000</td>\n",
       "      <td>1</td>\n",
       "      <td>32</td>\n",
       "    </tr>\n",
       "    <tr>\n",
       "      <th>2</th>\n",
       "      <td>whine_14086.wav</td>\n",
       "      <td>0.941043</td>\n",
       "      <td>1</td>\n",
       "      <td>32</td>\n",
       "    </tr>\n",
       "    <tr>\n",
       "      <th>3</th>\n",
       "      <td>bark_01283.wav</td>\n",
       "      <td>0.223991</td>\n",
       "      <td>1</td>\n",
       "      <td>16</td>\n",
       "    </tr>\n",
       "    <tr>\n",
       "      <th>4</th>\n",
       "      <td>whine_15871.wav</td>\n",
       "      <td>0.400000</td>\n",
       "      <td>2</td>\n",
       "      <td>16</td>\n",
       "    </tr>\n",
       "    <tr>\n",
       "      <th>5</th>\n",
       "      <td>pant_10388.wav</td>\n",
       "      <td>4.400000</td>\n",
       "      <td>2</td>\n",
       "      <td>16</td>\n",
       "    </tr>\n",
       "  </tbody>\n",
       "</table>\n",
       "</div>"
      ],
      "text/plain": [
       "         file_name    length num_channels bitrate\n",
       "0  whine_14124.wav  1.398912            1      32\n",
       "1  whine_14092.wav  0.600000            1      32\n",
       "2  whine_14086.wav  0.941043            1      32\n",
       "3   bark_01283.wav  0.223991            1      16\n",
       "4  whine_15871.wav  0.400000            2      16\n",
       "5   pant_10388.wav  4.400000            2      16"
      ]
     },
     "execution_count": 81,
     "metadata": {},
     "output_type": "execute_result"
    }
   ],
   "source": [
    "df"
   ]
  }
 ],
 "metadata": {
  "kernelspec": {
   "display_name": "laica",
   "language": "python",
   "name": "python3"
  },
  "language_info": {
   "codemirror_mode": {
    "name": "ipython",
    "version": 3
   },
   "file_extension": ".py",
   "mimetype": "text/x-python",
   "name": "python",
   "nbconvert_exporter": "python",
   "pygments_lexer": "ipython3",
   "version": "3.10.6"
  },
  "orig_nbformat": 4
 },
 "nbformat": 4,
 "nbformat_minor": 2
}
