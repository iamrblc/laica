{
 "cells": [
  {
   "attachments": {},
   "cell_type": "markdown",
   "metadata": {},
   "source": [
    "## SNIPPET HANDLING"
   ]
  },
  {
   "attachments": {},
   "cell_type": "markdown",
   "metadata": {},
   "source": [
    "## General imports"
   ]
  },
  {
   "cell_type": "code",
   "execution_count": 7,
   "metadata": {},
   "outputs": [],
   "source": [
    "import os\n",
    "import pandas as pd\n",
    "import numpy as np\n",
    "import matplotlib.pyplot as plt\n",
    "import librosa"
   ]
  },
  {
   "attachments": {},
   "cell_type": "markdown",
   "metadata": {},
   "source": [
    "## Setting up folder path"
   ]
  },
  {
   "cell_type": "code",
   "execution_count": 8,
   "metadata": {},
   "outputs": [],
   "source": [
    "folder = \"/Users/rblc/code/iamrblc/laica/examples/snippets/\""
   ]
  },
  {
   "attachments": {},
   "cell_type": "markdown",
   "metadata": {},
   "source": [
    "## Creating the base snippet dataframe"
   ]
  },
  {
   "cell_type": "code",
   "execution_count": 9,
   "metadata": {},
   "outputs": [],
   "source": [
    "def snippet_df_maker(folder = folder):\n",
    "    # Create empty lists to store the data\n",
    "    file_names = []\n",
    "    srs = []\n",
    "    audios = []\n",
    "    labels = []\n",
    "    \n",
    "    file_list = sorted(os.listdir(folder))\n",
    "    \n",
    "    for file in file_list:\n",
    "        # load the audio file with librosa\n",
    "        audio, sr = librosa.load(os.path.join(folder, file))\n",
    "        \n",
    "        # split the filename into the label and ID columns\n",
    "        label = file.split('_')[0]\n",
    "        \n",
    "        # append the extracted features to the lists\n",
    "        file_names.append(file)\n",
    "        srs.append(sr)\n",
    "        audios.append(audio)\n",
    "        labels.append(label)\n",
    "\n",
    "        # convert the lists to a pandas dataframe\n",
    "        snippet_df = pd.DataFrame(\n",
    "            {'file_name':file_names,\n",
    "            'sample_rate': srs,\n",
    "            'audio': audios,\n",
    "            'label': labels,})\n",
    "        \n",
    "        # add length column\n",
    "        snippet_df['length'] = (snippet_df['audio'].apply(lambda x: len(x))/snippet_df['sample_rate'])\n",
    "        \n",
    "        # include only rows where length between 0.2 and 4 seconds\n",
    "        snippet_df = snippet_df[snippet_df['length'] > 0.2]\n",
    "        snippet_df = snippet_df[snippet_df['length'] < 4]\n",
    "         \n",
    "    return snippet_df"
   ]
  },
  {
   "cell_type": "code",
   "execution_count": 10,
   "metadata": {},
   "outputs": [],
   "source": [
    "snippet_df = snippet_df_maker()"
   ]
  },
  {
   "attachments": {},
   "cell_type": "markdown",
   "metadata": {},
   "source": [
    "### Reduce df to the most important features"
   ]
  },
  {
   "cell_type": "code",
   "execution_count": 12,
   "metadata": {},
   "outputs": [],
   "source": [
    "# Create test_df with only file_name, and label columns\n",
    "snippet_df = snippet_df[['file_name', 'length', 'sample_rate', 'label']]"
   ]
  },
  {
   "attachments": {},
   "cell_type": "markdown",
   "metadata": {},
   "source": [
    "### Quick check "
   ]
  },
  {
   "cell_type": "code",
   "execution_count": 15,
   "metadata": {},
   "outputs": [
    {
     "data": {
      "text/html": [
       "<div>\n",
       "<style scoped>\n",
       "    .dataframe tbody tr th:only-of-type {\n",
       "        vertical-align: middle;\n",
       "    }\n",
       "\n",
       "    .dataframe tbody tr th {\n",
       "        vertical-align: top;\n",
       "    }\n",
       "\n",
       "    .dataframe thead th {\n",
       "        text-align: right;\n",
       "    }\n",
       "</style>\n",
       "<table border=\"1\" class=\"dataframe\">\n",
       "  <thead>\n",
       "    <tr style=\"text-align: right;\">\n",
       "      <th></th>\n",
       "      <th>file_name</th>\n",
       "      <th>length</th>\n",
       "      <th>sample_rate</th>\n",
       "      <th>label</th>\n",
       "    </tr>\n",
       "  </thead>\n",
       "  <tbody>\n",
       "    <tr>\n",
       "      <th>0</th>\n",
       "      <td>bark_00000.wav</td>\n",
       "      <td>0.231973</td>\n",
       "      <td>22050</td>\n",
       "      <td>bark</td>\n",
       "    </tr>\n",
       "    <tr>\n",
       "      <th>1</th>\n",
       "      <td>bark_00001.wav</td>\n",
       "      <td>0.695964</td>\n",
       "      <td>22050</td>\n",
       "      <td>bark</td>\n",
       "    </tr>\n",
       "    <tr>\n",
       "      <th>2</th>\n",
       "      <td>bark_00002.wav</td>\n",
       "      <td>0.240000</td>\n",
       "      <td>22050</td>\n",
       "      <td>bark</td>\n",
       "    </tr>\n",
       "    <tr>\n",
       "      <th>3</th>\n",
       "      <td>bark_00003.wav</td>\n",
       "      <td>0.207982</td>\n",
       "      <td>22050</td>\n",
       "      <td>bark</td>\n",
       "    </tr>\n",
       "    <tr>\n",
       "      <th>4</th>\n",
       "      <td>bark_00004.wav</td>\n",
       "      <td>0.552018</td>\n",
       "      <td>22050</td>\n",
       "      <td>bark</td>\n",
       "    </tr>\n",
       "  </tbody>\n",
       "</table>\n",
       "</div>"
      ],
      "text/plain": [
       "        file_name    length  sample_rate label\n",
       "0  bark_00000.wav  0.231973        22050  bark\n",
       "1  bark_00001.wav  0.695964        22050  bark\n",
       "2  bark_00002.wav  0.240000        22050  bark\n",
       "3  bark_00003.wav  0.207982        22050  bark\n",
       "4  bark_00004.wav  0.552018        22050  bark"
      ]
     },
     "execution_count": 15,
     "metadata": {},
     "output_type": "execute_result"
    }
   ],
   "source": [
    "snippet_df.head()"
   ]
  },
  {
   "cell_type": "code",
   "execution_count": 18,
   "metadata": {},
   "outputs": [
    {
     "data": {
      "text/html": [
       "<div>\n",
       "<style scoped>\n",
       "    .dataframe tbody tr th:only-of-type {\n",
       "        vertical-align: middle;\n",
       "    }\n",
       "\n",
       "    .dataframe tbody tr th {\n",
       "        vertical-align: top;\n",
       "    }\n",
       "\n",
       "    .dataframe thead th {\n",
       "        text-align: right;\n",
       "    }\n",
       "</style>\n",
       "<table border=\"1\" class=\"dataframe\">\n",
       "  <thead>\n",
       "    <tr style=\"text-align: right;\">\n",
       "      <th></th>\n",
       "      <th>file_name</th>\n",
       "      <th>length</th>\n",
       "      <th>sample_rate</th>\n",
       "      <th>label</th>\n",
       "    </tr>\n",
       "  </thead>\n",
       "  <tbody>\n",
       "    <tr>\n",
       "      <th>0</th>\n",
       "      <td>bark_00000.wav</td>\n",
       "      <td>0.231973</td>\n",
       "      <td>22050</td>\n",
       "      <td>bark</td>\n",
       "    </tr>\n",
       "    <tr>\n",
       "      <th>1</th>\n",
       "      <td>bark_00001.wav</td>\n",
       "      <td>0.695964</td>\n",
       "      <td>22050</td>\n",
       "      <td>bark</td>\n",
       "    </tr>\n",
       "    <tr>\n",
       "      <th>2</th>\n",
       "      <td>bark_00002.wav</td>\n",
       "      <td>0.240000</td>\n",
       "      <td>22050</td>\n",
       "      <td>bark</td>\n",
       "    </tr>\n",
       "    <tr>\n",
       "      <th>3</th>\n",
       "      <td>bark_00003.wav</td>\n",
       "      <td>0.207982</td>\n",
       "      <td>22050</td>\n",
       "      <td>bark</td>\n",
       "    </tr>\n",
       "    <tr>\n",
       "      <th>4</th>\n",
       "      <td>bark_00004.wav</td>\n",
       "      <td>0.552018</td>\n",
       "      <td>22050</td>\n",
       "      <td>bark</td>\n",
       "    </tr>\n",
       "  </tbody>\n",
       "</table>\n",
       "</div>"
      ],
      "text/plain": [
       "        file_name    length  sample_rate label\n",
       "0  bark_00000.wav  0.231973        22050  bark\n",
       "1  bark_00001.wav  0.695964        22050  bark\n",
       "2  bark_00002.wav  0.240000        22050  bark\n",
       "3  bark_00003.wav  0.207982        22050  bark\n",
       "4  bark_00004.wav  0.552018        22050  bark"
      ]
     },
     "execution_count": 18,
     "metadata": {},
     "output_type": "execute_result"
    }
   ],
   "source": [
    "snippet_df.head()"
   ]
  },
  {
   "cell_type": "code",
   "execution_count": 17,
   "metadata": {},
   "outputs": [
    {
     "data": {
      "text/html": [
       "<div>\n",
       "<style scoped>\n",
       "    .dataframe tbody tr th:only-of-type {\n",
       "        vertical-align: middle;\n",
       "    }\n",
       "\n",
       "    .dataframe tbody tr th {\n",
       "        vertical-align: top;\n",
       "    }\n",
       "\n",
       "    .dataframe thead th {\n",
       "        text-align: right;\n",
       "    }\n",
       "</style>\n",
       "<table border=\"1\" class=\"dataframe\">\n",
       "  <thead>\n",
       "    <tr style=\"text-align: right;\">\n",
       "      <th></th>\n",
       "      <th>length</th>\n",
       "      <th>sample_rate</th>\n",
       "    </tr>\n",
       "  </thead>\n",
       "  <tbody>\n",
       "    <tr>\n",
       "      <th>count</th>\n",
       "      <td>12340.000000</td>\n",
       "      <td>12340.0</td>\n",
       "    </tr>\n",
       "    <tr>\n",
       "      <th>mean</th>\n",
       "      <td>1.047793</td>\n",
       "      <td>22050.0</td>\n",
       "    </tr>\n",
       "    <tr>\n",
       "      <th>std</th>\n",
       "      <td>0.845854</td>\n",
       "      <td>0.0</td>\n",
       "    </tr>\n",
       "    <tr>\n",
       "      <th>min</th>\n",
       "      <td>0.200998</td>\n",
       "      <td>22050.0</td>\n",
       "    </tr>\n",
       "    <tr>\n",
       "      <th>25%</th>\n",
       "      <td>0.400000</td>\n",
       "      <td>22050.0</td>\n",
       "    </tr>\n",
       "    <tr>\n",
       "      <th>50%</th>\n",
       "      <td>0.793515</td>\n",
       "      <td>22050.0</td>\n",
       "    </tr>\n",
       "    <tr>\n",
       "      <th>75%</th>\n",
       "      <td>1.417007</td>\n",
       "      <td>22050.0</td>\n",
       "    </tr>\n",
       "    <tr>\n",
       "      <th>max</th>\n",
       "      <td>3.997007</td>\n",
       "      <td>22050.0</td>\n",
       "    </tr>\n",
       "  </tbody>\n",
       "</table>\n",
       "</div>"
      ],
      "text/plain": [
       "             length  sample_rate\n",
       "count  12340.000000      12340.0\n",
       "mean       1.047793      22050.0\n",
       "std        0.845854          0.0\n",
       "min        0.200998      22050.0\n",
       "25%        0.400000      22050.0\n",
       "50%        0.793515      22050.0\n",
       "75%        1.417007      22050.0\n",
       "max        3.997007      22050.0"
      ]
     },
     "execution_count": 17,
     "metadata": {},
     "output_type": "execute_result"
    }
   ],
   "source": [
    "snippet_df.describe()"
   ]
  },
  {
   "cell_type": "code",
   "execution_count": 19,
   "metadata": {},
   "outputs": [
    {
     "data": {
      "text/plain": [
       "bark     6442\n",
       "whine    2416\n",
       "growl    1800\n",
       "pant      865\n",
       "yelp      817\n",
       "Name: label, dtype: int64"
      ]
     },
     "execution_count": 19,
     "metadata": {},
     "output_type": "execute_result"
    }
   ],
   "source": [
    "snippet_df['label'].value_counts()"
   ]
  },
  {
   "cell_type": "code",
   "execution_count": 20,
   "metadata": {},
   "outputs": [
    {
     "data": {
      "text/plain": [
       "<Axes: >"
      ]
     },
     "execution_count": 20,
     "metadata": {},
     "output_type": "execute_result"
    },
    {
     "data": {
      "image/png": "[encoded data removed]",
      "text/plain": [
       "<Figure size 640x480 with 1 Axes>"
      ]
     },
     "metadata": {},
     "output_type": "display_data"
    }
   ],
   "source": [
    "# Histogram of snippet lengths\n",
    "snippet_df['length'].hist(bins=100)"
   ]
  },
  {
   "attachments": {},
   "cell_type": "markdown",
   "metadata": {},
   "source": [
    "## Extracting audio features using librosa"
   ]
  },
  {
   "attachments": {},
   "cell_type": "markdown",
   "metadata": {},
   "source": [
    "### Multiple audio features extraction\n",
    "<span style=\"color:red;font-weight:bold\">Use it only if you REALLY want to extract many audio features!!!!</span>"
   ]
  },
  {
   "cell_type": "code",
   "execution_count": 21,
   "metadata": {},
   "outputs": [],
   "source": [
    "'''\n",
    "def extract_features(row):\n",
    "    file_path = os.path.join(folder, row['file_name'])\n",
    "    y, sr = librosa.load(file_path, sr=row['sample_rate'])\n",
    "    mfcc = librosa.feature.mfcc(y=y, sr=sr, n_mfcc=20)\n",
    "    spectral_centroid = librosa.feature.spectral_centroid(y=y, sr=sr)\n",
    "    tonal_centroid = librosa.feature.tonnetz(y=y, sr=sr)\n",
    "    spectral_bandwidth = librosa.feature.spectral_bandwidth(y=y, sr=sr)\n",
    "    spectral_contrast = librosa.feature.spectral_contrast(y=y, sr=sr)\n",
    "    spectral_flatness = librosa.feature.spectral_flatness(y=y)\n",
    "    roll_off_frequency = librosa.feature.spectral_rolloff(y=y, sr=sr)\n",
    "    return mfcc, spectral_centroid, tonal_centroid, spectral_bandwidth, spectral_contrast, spectral_flatness, roll_off_frequency\n",
    "\n",
    "# Apply the function to each row in the dataframe\n",
    "features = snippet_df.apply(extract_features, axis=1)\n",
    "         \n",
    "# Add the features to the dataframe as new columns\n",
    "snippet_df['mfcc'] = features.apply(lambda x: x[0])                   \n",
    "snippet_df['spectral_centroid'] = features.apply(lambda x: x[1])\n",
    "snippet_df['tonal_centroid'] = features.apply(lambda x: x[2])\n",
    "snippet_df['spectral_bandwidth'] = features.apply(lambda x: x[3])\n",
    "snippet_df['spectral_contrast'] = features.apply(lambda x: x[4])\n",
    "snippet_df['spectral_flatness'] = features.apply(lambda x: x[5])\n",
    "snippet_df['roll_off_frequency'] = features.apply(lambda x: x[6])\n",
    "'''\n",
    "pass"
   ]
  },
  {
   "attachments": {},
   "cell_type": "markdown",
   "metadata": {},
   "source": [
    "### Extract MFCCs only\n",
    "<span style=\"color:red;font-weight:bold\">Comment this out if you need multiple audio feature extraction</span>"
   ]
  },
  {
   "cell_type": "code",
   "execution_count": null,
   "metadata": {},
   "outputs": [],
   "source": [
    "'''\n",
    "THIS MIGHT BE KEY TO GETTING THE FEATURES OUT OF THE DATAFRAME\n",
    "def extract_features(file_name):\n",
    "    audio, sample_rate = librosa.load(file_name, res_type='kaiser_fast') \n",
    "    mfccs = librosa.feature.mfcc(y=audio, sr=sample_rate, n_mfcc=40)\n",
    "    mfccs_processed = np.mean(mfccs.T,axis=0)\n",
    "     \n",
    "    return mfccs_processed\n",
    "    \n",
    "    \n",
    "features = []\n",
    "\n",
    "# Iterate through each sound file and extract the features \n",
    "for index, row in metadata.iterrows():\n",
    "    \n",
    "    file_name = os.path.join(os.path.abspath(fulldatasetpath),'fold'+str(row[\"fold\"])+'/',str(row[\"slice_file_name\"]))\n",
    "    \n",
    "    class_label = row[\"class\"]\n",
    "    data = extract_features(file_name)\n",
    "    \n",
    "    features.append([data, class_label])\n",
    "\n",
    "# Convert into a Panda dataframe \n",
    "featuresdf = pd.DataFrame(features, columns=['feature','class_label'])\n",
    "\n",
    "\n",
    "\n",
    "'''"
   ]
  },
  {
   "cell_type": "code",
   "execution_count": 127,
   "metadata": {},
   "outputs": [],
   "source": [
    "def extract_features(row):\n",
    "    file_path = os.path.join(folder, row['file_name'])\n",
    "    audio, sr = librosa.load(file_path, sr=row['sample_rate'])\n",
    "    mfcc = librosa.feature.mfcc(y=y, sr=sr, n_mfcc=40)\n",
    "    mfcc_processed = np.mean(mfcc.T,axis=0)\n",
    "    \n",
    "    return mfcc_processed\n",
    "\n",
    "'''audio, sample_rate = librosa.load(file_name, res_type='kaiser_fast') \n",
    "    mfccs = librosa.feature.mfcc(y=audio, sr=sample_rate, n_mfcc=40)\n",
    "    mfccs_processed = np.mean(mfccs.T,axis=0)'''\n",
    "\n",
    "# Apply the function to each row in the dataframe\n",
    "features = snippet_df.apply(extract_features, axis=1)\n",
    "\n",
    "# Add the features to the dataframe as new columns\n",
    "snippet_df['mfcc'] = features.apply(lambda x: x)              "
   ]
  },
  {
   "cell_type": "code",
   "execution_count": 135,
   "metadata": {},
   "outputs": [],
   "source": [
    "mfcc_df = snippet_df[['mfcc', 'label']].copy()"
   ]
  },
  {
   "cell_type": "code",
   "execution_count": 136,
   "metadata": {},
   "outputs": [
    {
     "data": {
      "text/html": [
       "<div>\n",
       "<style scoped>\n",
       "    .dataframe tbody tr th:only-of-type {\n",
       "        vertical-align: middle;\n",
       "    }\n",
       "\n",
       "    .dataframe tbody tr th {\n",
       "        vertical-align: top;\n",
       "    }\n",
       "\n",
       "    .dataframe thead th {\n",
       "        text-align: right;\n",
       "    }\n",
       "</style>\n",
       "<table border=\"1\" class=\"dataframe\">\n",
       "  <thead>\n",
       "    <tr style=\"text-align: right;\">\n",
       "      <th></th>\n",
       "      <th>mfcc</th>\n",
       "      <th>label</th>\n",
       "    </tr>\n",
       "  </thead>\n",
       "  <tbody>\n",
       "    <tr>\n",
       "      <th>0</th>\n",
       "      <td>[-65.770676, 58.323593, -85.66604, 52.689854, ...</td>\n",
       "      <td>bark</td>\n",
       "    </tr>\n",
       "    <tr>\n",
       "      <th>1</th>\n",
       "      <td>[-65.770676, 58.323593, -85.66604, 52.689854, ...</td>\n",
       "      <td>bark</td>\n",
       "    </tr>\n",
       "    <tr>\n",
       "      <th>2</th>\n",
       "      <td>[-65.770676, 58.323593, -85.66604, 52.689854, ...</td>\n",
       "      <td>bark</td>\n",
       "    </tr>\n",
       "    <tr>\n",
       "      <th>3</th>\n",
       "      <td>[-65.770676, 58.323593, -85.66604, 52.689854, ...</td>\n",
       "      <td>bark</td>\n",
       "    </tr>\n",
       "    <tr>\n",
       "      <th>4</th>\n",
       "      <td>[-65.770676, 58.323593, -85.66604, 52.689854, ...</td>\n",
       "      <td>bark</td>\n",
       "    </tr>\n",
       "  </tbody>\n",
       "</table>\n",
       "</div>"
      ],
      "text/plain": [
       "                                                mfcc label\n",
       "0  [-65.770676, 58.323593, -85.66604, 52.689854, ...  bark\n",
       "1  [-65.770676, 58.323593, -85.66604, 52.689854, ...  bark\n",
       "2  [-65.770676, 58.323593, -85.66604, 52.689854, ...  bark\n",
       "3  [-65.770676, 58.323593, -85.66604, 52.689854, ...  bark\n",
       "4  [-65.770676, 58.323593, -85.66604, 52.689854, ...  bark"
      ]
     },
     "execution_count": 136,
     "metadata": {},
     "output_type": "execute_result"
    }
   ],
   "source": [
    "mfcc_df.head()"
   ]
  },
  {
   "attachments": {},
   "cell_type": "markdown",
   "metadata": {},
   "source": [
    "### Creating mfcc pickle"
   ]
  },
  {
   "cell_type": "code",
   "execution_count": 159,
   "metadata": {},
   "outputs": [],
   "source": [
    "mfcc_df.to_pickle('mfcc_df.pkl')"
   ]
  },
  {
   "cell_type": "code",
   "execution_count": 138,
   "metadata": {},
   "outputs": [],
   "source": [
    "from sklearn.preprocessing import LabelEncoder\n",
    "from keras.utils import to_categorical\n",
    "\n",
    "# Convert features and corresponding classification labels into numpy arrays\n",
    "X = np.array(mfcc_df.mfcc.tolist())\n",
    "y = np.array(mfcc_df.label.tolist())\n",
    "\n",
    "# Encode the classification labels\n",
    "le = LabelEncoder()\n",
    "yy = to_categorical(le.fit_transform(y))"
   ]
  },
  {
   "cell_type": "code",
   "execution_count": 139,
   "metadata": {},
   "outputs": [],
   "source": [
    "# split the dataset \n",
    "from sklearn.model_selection import train_test_split \n",
    "\n",
    "x_train, x_test, y_train, y_test = train_test_split(X, yy, test_size=0.2, random_state = 127)"
   ]
  },
  {
   "cell_type": "code",
   "execution_count": 141,
   "metadata": {},
   "outputs": [],
   "source": [
    "from keras.models import Sequential\n",
    "from keras.layers import Dense, Dropout, Activation\n",
    "from keras.optimizers import Adam\n",
    "from keras.utils import to_categorical"
   ]
  },
  {
   "cell_type": "code",
   "execution_count": 142,
   "metadata": {},
   "outputs": [],
   "source": [
    "num_labels = yy.shape[1]\n",
    "filter_size = 2\n",
    "\n",
    "def build_model_graph(input_shape=(40,)):\n",
    "    model = Sequential()\n",
    "    model.add(Dense(256))\n",
    "    model.add(Activation('relu'))\n",
    "    model.add(Dropout(0.5))\n",
    "    model.add(Dense(256))\n",
    "    model.add(Activation('relu'))\n",
    "    model.add(Dropout(0.5))\n",
    "    model.add(Dense(num_labels))\n",
    "    model.add(Activation('softmax'))\n",
    "    # Compile the model\n",
    "    model.compile(loss='categorical_crossentropy', metrics=['accuracy'], optimizer='adam')\n",
    "\n",
    "    return model\n",
    "\n",
    "model = build_model_graph()"
   ]
  },
  {
   "cell_type": "code",
   "execution_count": 145,
   "metadata": {},
   "outputs": [
    {
     "name": "stdout",
     "output_type": "stream",
     "text": [
      "Epoch 1/100\n"
     ]
    },
    {
     "name": "stderr",
     "output_type": "stream",
     "text": [
      "2023-03-09 21:42:42.451259: W tensorflow/tsl/platform/profile_utils/cpu_utils.cc:128] Failed to get CPU frequency: 0 Hz\n"
     ]
    },
    {
     "name": "stdout",
     "output_type": "stream",
     "text": [
      "309/309 [==============================] - 1s 1ms/step - loss: 2.4145 - accuracy: 0.4374 - val_loss: 1.3809 - val_accuracy: 0.5085\n",
      "Epoch 2/100\n",
      "309/309 [==============================] - 0s 1ms/step - loss: 1.3536 - accuracy: 0.5171 - val_loss: 1.3259 - val_accuracy: 0.5085\n",
      "Epoch 3/100\n",
      "309/309 [==============================] - 0s 1ms/step - loss: 1.3377 - accuracy: 0.5250 - val_loss: 1.3435 - val_accuracy: 0.5085\n",
      "Epoch 4/100\n",
      "309/309 [==============================] - 0s 1ms/step - loss: 1.3151 - accuracy: 0.5254 - val_loss: 1.3220 - val_accuracy: 0.5085\n",
      "Epoch 5/100\n",
      "309/309 [==============================] - 0s 1ms/step - loss: 1.3038 - accuracy: 0.5254 - val_loss: 1.3220 - val_accuracy: 0.5085\n",
      "Epoch 6/100\n",
      "309/309 [==============================] - 0s 1ms/step - loss: 1.3049 - accuracy: 0.5254 - val_loss: 1.3218 - val_accuracy: 0.5085\n",
      "Epoch 7/100\n",
      "309/309 [==============================] - 0s 1ms/step - loss: 1.3041 - accuracy: 0.5254 - val_loss: 1.3221 - val_accuracy: 0.5085\n",
      "Epoch 8/100\n",
      "309/309 [==============================] - 0s 1ms/step - loss: 1.3044 - accuracy: 0.5254 - val_loss: 1.3225 - val_accuracy: 0.5085\n",
      "Epoch 9/100\n",
      "309/309 [==============================] - 0s 1ms/step - loss: 1.3036 - accuracy: 0.5254 - val_loss: 1.3230 - val_accuracy: 0.5085\n",
      "Epoch 10/100\n",
      "309/309 [==============================] - 0s 1ms/step - loss: 1.3039 - accuracy: 0.5254 - val_loss: 1.3228 - val_accuracy: 0.5085\n",
      "Epoch 11/100\n",
      "309/309 [==============================] - 0s 1ms/step - loss: 1.3050 - accuracy: 0.5254 - val_loss: 1.3232 - val_accuracy: 0.5085\n",
      "Epoch 12/100\n",
      "309/309 [==============================] - 0s 1ms/step - loss: 1.3039 - accuracy: 0.5254 - val_loss: 1.3238 - val_accuracy: 0.5085\n",
      "Epoch 13/100\n",
      "309/309 [==============================] - 0s 1ms/step - loss: 1.3039 - accuracy: 0.5254 - val_loss: 1.3220 - val_accuracy: 0.5085\n",
      "Epoch 14/100\n",
      "309/309 [==============================] - 0s 1ms/step - loss: 1.3040 - accuracy: 0.5254 - val_loss: 1.3232 - val_accuracy: 0.5085\n",
      "Epoch 15/100\n",
      "309/309 [==============================] - 0s 1ms/step - loss: 1.3050 - accuracy: 0.5254 - val_loss: 1.3224 - val_accuracy: 0.5085\n",
      "Epoch 16/100\n",
      "309/309 [==============================] - 0s 1ms/step - loss: 1.3041 - accuracy: 0.5254 - val_loss: 1.3234 - val_accuracy: 0.5085\n",
      "Epoch 17/100\n",
      "309/309 [==============================] - 0s 1ms/step - loss: 1.3033 - accuracy: 0.5254 - val_loss: 1.3219 - val_accuracy: 0.5085\n",
      "Epoch 18/100\n",
      "309/309 [==============================] - 0s 1ms/step - loss: 1.3037 - accuracy: 0.5254 - val_loss: 1.3220 - val_accuracy: 0.5085\n",
      "Epoch 19/100\n",
      "309/309 [==============================] - 0s 1ms/step - loss: 1.3034 - accuracy: 0.5254 - val_loss: 1.3223 - val_accuracy: 0.5085\n",
      "Epoch 20/100\n",
      "309/309 [==============================] - 0s 1ms/step - loss: 1.3041 - accuracy: 0.5254 - val_loss: 1.3218 - val_accuracy: 0.5085\n",
      "Epoch 21/100\n",
      "309/309 [==============================] - 0s 1ms/step - loss: 1.3033 - accuracy: 0.5254 - val_loss: 1.3236 - val_accuracy: 0.5085\n",
      "Epoch 22/100\n",
      "309/309 [==============================] - 0s 1ms/step - loss: 1.3032 - accuracy: 0.5254 - val_loss: 1.3224 - val_accuracy: 0.5085\n",
      "Epoch 23/100\n",
      "309/309 [==============================] - 0s 1ms/step - loss: 1.3038 - accuracy: 0.5254 - val_loss: 1.3224 - val_accuracy: 0.5085\n",
      "Epoch 24/100\n",
      "309/309 [==============================] - 0s 1ms/step - loss: 1.3035 - accuracy: 0.5254 - val_loss: 1.3231 - val_accuracy: 0.5085\n",
      "Epoch 25/100\n",
      "309/309 [==============================] - 0s 1ms/step - loss: 1.3039 - accuracy: 0.5254 - val_loss: 1.3243 - val_accuracy: 0.5085\n",
      "Epoch 26/100\n",
      "309/309 [==============================] - 0s 1ms/step - loss: 1.3030 - accuracy: 0.5254 - val_loss: 1.3232 - val_accuracy: 0.5085\n",
      "Epoch 27/100\n",
      "309/309 [==============================] - 0s 1ms/step - loss: 1.3035 - accuracy: 0.5254 - val_loss: 1.3224 - val_accuracy: 0.5085\n",
      "Epoch 28/100\n",
      "309/309 [==============================] - 0s 1ms/step - loss: 1.3033 - accuracy: 0.5254 - val_loss: 1.3224 - val_accuracy: 0.5085\n",
      "Epoch 29/100\n",
      "309/309 [==============================] - 0s 1ms/step - loss: 1.3027 - accuracy: 0.5254 - val_loss: 1.3236 - val_accuracy: 0.5085\n",
      "Epoch 30/100\n",
      "309/309 [==============================] - 0s 1ms/step - loss: 1.3034 - accuracy: 0.5254 - val_loss: 1.3231 - val_accuracy: 0.5085\n",
      "Epoch 31/100\n",
      "309/309 [==============================] - 0s 1ms/step - loss: 1.3028 - accuracy: 0.5254 - val_loss: 1.3217 - val_accuracy: 0.5085\n",
      "Epoch 32/100\n",
      "309/309 [==============================] - 0s 1ms/step - loss: 1.3035 - accuracy: 0.5254 - val_loss: 1.3221 - val_accuracy: 0.5085\n",
      "Epoch 33/100\n",
      "309/309 [==============================] - 0s 1ms/step - loss: 1.3034 - accuracy: 0.5254 - val_loss: 1.3253 - val_accuracy: 0.5085\n",
      "Epoch 34/100\n",
      "309/309 [==============================] - 0s 1ms/step - loss: 1.3036 - accuracy: 0.5254 - val_loss: 1.3227 - val_accuracy: 0.5085\n",
      "Epoch 35/100\n",
      "309/309 [==============================] - 0s 1ms/step - loss: 1.3033 - accuracy: 0.5254 - val_loss: 1.3220 - val_accuracy: 0.5085\n",
      "Epoch 36/100\n",
      "309/309 [==============================] - 0s 1ms/step - loss: 1.3028 - accuracy: 0.5254 - val_loss: 1.3222 - val_accuracy: 0.5085\n",
      "Epoch 37/100\n",
      "309/309 [==============================] - 0s 1ms/step - loss: 1.3024 - accuracy: 0.5254 - val_loss: 1.3221 - val_accuracy: 0.5085\n",
      "Epoch 38/100\n",
      "309/309 [==============================] - 0s 1ms/step - loss: 1.3022 - accuracy: 0.5254 - val_loss: 1.3221 - val_accuracy: 0.5085\n",
      "Epoch 39/100\n",
      "309/309 [==============================] - 0s 1ms/step - loss: 1.3025 - accuracy: 0.5254 - val_loss: 1.3222 - val_accuracy: 0.5085\n",
      "Epoch 40/100\n",
      "309/309 [==============================] - 0s 1ms/step - loss: 1.3031 - accuracy: 0.5254 - val_loss: 1.3226 - val_accuracy: 0.5085\n",
      "Epoch 41/100\n",
      "309/309 [==============================] - 0s 1ms/step - loss: 1.3021 - accuracy: 0.5254 - val_loss: 1.3225 - val_accuracy: 0.5085\n",
      "Epoch 42/100\n",
      "309/309 [==============================] - 0s 1ms/step - loss: 1.3033 - accuracy: 0.5254 - val_loss: 1.3218 - val_accuracy: 0.5085\n",
      "Epoch 43/100\n",
      "309/309 [==============================] - 0s 1ms/step - loss: 1.3028 - accuracy: 0.5254 - val_loss: 1.3222 - val_accuracy: 0.5085\n",
      "Epoch 44/100\n",
      "309/309 [==============================] - 0s 1ms/step - loss: 1.3029 - accuracy: 0.5254 - val_loss: 1.3222 - val_accuracy: 0.5085\n",
      "Epoch 45/100\n",
      "309/309 [==============================] - 0s 1ms/step - loss: 1.3033 - accuracy: 0.5254 - val_loss: 1.3225 - val_accuracy: 0.5085\n",
      "Epoch 46/100\n",
      "309/309 [==============================] - 0s 1ms/step - loss: 1.3022 - accuracy: 0.5254 - val_loss: 1.3219 - val_accuracy: 0.5085\n",
      "Epoch 47/100\n",
      "309/309 [==============================] - 0s 1ms/step - loss: 1.3026 - accuracy: 0.5254 - val_loss: 1.3226 - val_accuracy: 0.5085\n",
      "Epoch 48/100\n",
      "309/309 [==============================] - 0s 1ms/step - loss: 1.3025 - accuracy: 0.5254 - val_loss: 1.3223 - val_accuracy: 0.5085\n",
      "Epoch 49/100\n",
      "309/309 [==============================] - 0s 1ms/step - loss: 1.3027 - accuracy: 0.5254 - val_loss: 1.3226 - val_accuracy: 0.5085\n",
      "Epoch 50/100\n",
      "309/309 [==============================] - 0s 1ms/step - loss: 1.3027 - accuracy: 0.5254 - val_loss: 1.3229 - val_accuracy: 0.5085\n",
      "Epoch 51/100\n",
      "309/309 [==============================] - 0s 1ms/step - loss: 1.3024 - accuracy: 0.5254 - val_loss: 1.3219 - val_accuracy: 0.5085\n",
      "Epoch 52/100\n",
      "309/309 [==============================] - 0s 1ms/step - loss: 1.3021 - accuracy: 0.5254 - val_loss: 1.3223 - val_accuracy: 0.5085\n",
      "Epoch 53/100\n",
      "309/309 [==============================] - 0s 1ms/step - loss: 1.3023 - accuracy: 0.5254 - val_loss: 1.3225 - val_accuracy: 0.5085\n",
      "Epoch 54/100\n",
      "309/309 [==============================] - 0s 1ms/step - loss: 1.3024 - accuracy: 0.5254 - val_loss: 1.3220 - val_accuracy: 0.5085\n",
      "Epoch 55/100\n",
      "309/309 [==============================] - 0s 1ms/step - loss: 1.3022 - accuracy: 0.5254 - val_loss: 1.3219 - val_accuracy: 0.5085\n",
      "Epoch 56/100\n",
      "309/309 [==============================] - 0s 1ms/step - loss: 1.3023 - accuracy: 0.5254 - val_loss: 1.3219 - val_accuracy: 0.5085\n",
      "Epoch 57/100\n",
      "309/309 [==============================] - 0s 1ms/step - loss: 1.3028 - accuracy: 0.5254 - val_loss: 1.3222 - val_accuracy: 0.5085\n",
      "Epoch 58/100\n",
      "309/309 [==============================] - 0s 1ms/step - loss: 1.3020 - accuracy: 0.5254 - val_loss: 1.3229 - val_accuracy: 0.5085\n",
      "Epoch 59/100\n",
      "309/309 [==============================] - 0s 1ms/step - loss: 1.3030 - accuracy: 0.5254 - val_loss: 1.3221 - val_accuracy: 0.5085\n",
      "Epoch 60/100\n",
      "309/309 [==============================] - 0s 1ms/step - loss: 1.3027 - accuracy: 0.5254 - val_loss: 1.3228 - val_accuracy: 0.5085\n",
      "Epoch 61/100\n",
      "309/309 [==============================] - 0s 1ms/step - loss: 1.3025 - accuracy: 0.5254 - val_loss: 1.3227 - val_accuracy: 0.5085\n",
      "Epoch 62/100\n",
      "309/309 [==============================] - 0s 1ms/step - loss: 1.3028 - accuracy: 0.5254 - val_loss: 1.3232 - val_accuracy: 0.5085\n",
      "Epoch 63/100\n",
      "309/309 [==============================] - 0s 1ms/step - loss: 1.3024 - accuracy: 0.5254 - val_loss: 1.3224 - val_accuracy: 0.5085\n",
      "Epoch 64/100\n",
      "309/309 [==============================] - 0s 1ms/step - loss: 1.3024 - accuracy: 0.5254 - val_loss: 1.3218 - val_accuracy: 0.5085\n",
      "Epoch 65/100\n",
      "309/309 [==============================] - 0s 1ms/step - loss: 1.3026 - accuracy: 0.5254 - val_loss: 1.3230 - val_accuracy: 0.5085\n",
      "Epoch 66/100\n",
      "309/309 [==============================] - 0s 1ms/step - loss: 1.3021 - accuracy: 0.5254 - val_loss: 1.3224 - val_accuracy: 0.5085\n",
      "Epoch 67/100\n",
      "309/309 [==============================] - 0s 1ms/step - loss: 1.3029 - accuracy: 0.5254 - val_loss: 1.3221 - val_accuracy: 0.5085\n",
      "Epoch 68/100\n",
      "309/309 [==============================] - 0s 1ms/step - loss: 1.3021 - accuracy: 0.5254 - val_loss: 1.3226 - val_accuracy: 0.5085\n",
      "Epoch 69/100\n",
      "309/309 [==============================] - 0s 1ms/step - loss: 1.3020 - accuracy: 0.5254 - val_loss: 1.3234 - val_accuracy: 0.5085\n",
      "Epoch 70/100\n",
      "309/309 [==============================] - 0s 1ms/step - loss: 1.3026 - accuracy: 0.5254 - val_loss: 1.3227 - val_accuracy: 0.5085\n",
      "Epoch 71/100\n",
      "309/309 [==============================] - 0s 1ms/step - loss: 1.3020 - accuracy: 0.5254 - val_loss: 1.3223 - val_accuracy: 0.5085\n",
      "Epoch 72/100\n",
      "309/309 [==============================] - 0s 1ms/step - loss: 1.3019 - accuracy: 0.5254 - val_loss: 1.3222 - val_accuracy: 0.5085\n",
      "Epoch 73/100\n",
      "309/309 [==============================] - 0s 1ms/step - loss: 1.3019 - accuracy: 0.5254 - val_loss: 1.3223 - val_accuracy: 0.5085\n",
      "Epoch 74/100\n",
      "309/309 [==============================] - 0s 1ms/step - loss: 1.3023 - accuracy: 0.5254 - val_loss: 1.3221 - val_accuracy: 0.5085\n",
      "Epoch 75/100\n",
      "309/309 [==============================] - 0s 1ms/step - loss: 1.3022 - accuracy: 0.5254 - val_loss: 1.3223 - val_accuracy: 0.5085\n",
      "Epoch 76/100\n",
      "309/309 [==============================] - 0s 1ms/step - loss: 1.3021 - accuracy: 0.5254 - val_loss: 1.3223 - val_accuracy: 0.5085\n",
      "Epoch 77/100\n",
      "309/309 [==============================] - 0s 1ms/step - loss: 1.3022 - accuracy: 0.5254 - val_loss: 1.3224 - val_accuracy: 0.5085\n",
      "Epoch 78/100\n",
      "309/309 [==============================] - 0s 1ms/step - loss: 1.3021 - accuracy: 0.5254 - val_loss: 1.3221 - val_accuracy: 0.5085\n",
      "Epoch 79/100\n",
      "309/309 [==============================] - 0s 1ms/step - loss: 1.3015 - accuracy: 0.5254 - val_loss: 1.3225 - val_accuracy: 0.5085\n",
      "Epoch 80/100\n",
      "309/309 [==============================] - 0s 1ms/step - loss: 1.3023 - accuracy: 0.5254 - val_loss: 1.3219 - val_accuracy: 0.5085\n",
      "Epoch 81/100\n",
      "309/309 [==============================] - 0s 1ms/step - loss: 1.3025 - accuracy: 0.5254 - val_loss: 1.3221 - val_accuracy: 0.5085\n",
      "Epoch 82/100\n",
      "309/309 [==============================] - 0s 1ms/step - loss: 1.3023 - accuracy: 0.5254 - val_loss: 1.3221 - val_accuracy: 0.5085\n",
      "Epoch 83/100\n",
      "309/309 [==============================] - 0s 1ms/step - loss: 1.3019 - accuracy: 0.5254 - val_loss: 1.3223 - val_accuracy: 0.5085\n",
      "Epoch 84/100\n",
      "309/309 [==============================] - 0s 1ms/step - loss: 1.3019 - accuracy: 0.5254 - val_loss: 1.3223 - val_accuracy: 0.5085\n",
      "Epoch 85/100\n",
      "309/309 [==============================] - 0s 1ms/step - loss: 1.3018 - accuracy: 0.5254 - val_loss: 1.3223 - val_accuracy: 0.5085\n",
      "Epoch 86/100\n",
      "309/309 [==============================] - 0s 1ms/step - loss: 1.3017 - accuracy: 0.5254 - val_loss: 1.3229 - val_accuracy: 0.5085\n",
      "Epoch 87/100\n",
      "309/309 [==============================] - 0s 1ms/step - loss: 1.3020 - accuracy: 0.5254 - val_loss: 1.3229 - val_accuracy: 0.5085\n",
      "Epoch 88/100\n",
      "309/309 [==============================] - 0s 1ms/step - loss: 1.3022 - accuracy: 0.5254 - val_loss: 1.3222 - val_accuracy: 0.5085\n",
      "Epoch 89/100\n",
      "309/309 [==============================] - 0s 1ms/step - loss: 1.3015 - accuracy: 0.5254 - val_loss: 1.3227 - val_accuracy: 0.5085\n",
      "Epoch 90/100\n",
      "309/309 [==============================] - 0s 1ms/step - loss: 1.3019 - accuracy: 0.5254 - val_loss: 1.3220 - val_accuracy: 0.5085\n",
      "Epoch 91/100\n",
      "309/309 [==============================] - 0s 1ms/step - loss: 1.3018 - accuracy: 0.5254 - val_loss: 1.3223 - val_accuracy: 0.5085\n",
      "Epoch 92/100\n",
      "309/309 [==============================] - 0s 1ms/step - loss: 1.3018 - accuracy: 0.5254 - val_loss: 1.3223 - val_accuracy: 0.5085\n",
      "Epoch 93/100\n",
      "309/309 [==============================] - 0s 1ms/step - loss: 1.3020 - accuracy: 0.5254 - val_loss: 1.3219 - val_accuracy: 0.5085\n",
      "Epoch 94/100\n",
      "309/309 [==============================] - 0s 1ms/step - loss: 1.3020 - accuracy: 0.5254 - val_loss: 1.3223 - val_accuracy: 0.5085\n",
      "Epoch 95/100\n",
      "309/309 [==============================] - 0s 1ms/step - loss: 1.3014 - accuracy: 0.5254 - val_loss: 1.3223 - val_accuracy: 0.5085\n",
      "Epoch 96/100\n",
      "309/309 [==============================] - 0s 1ms/step - loss: 1.3019 - accuracy: 0.5254 - val_loss: 1.3220 - val_accuracy: 0.5085\n",
      "Epoch 97/100\n",
      "309/309 [==============================] - 0s 1ms/step - loss: 1.3020 - accuracy: 0.5254 - val_loss: 1.3223 - val_accuracy: 0.5085\n",
      "Epoch 98/100\n",
      "309/309 [==============================] - 0s 1ms/step - loss: 1.3016 - accuracy: 0.5254 - val_loss: 1.3220 - val_accuracy: 0.5085\n",
      "Epoch 99/100\n",
      "309/309 [==============================] - 0s 1ms/step - loss: 1.3018 - accuracy: 0.5254 - val_loss: 1.3221 - val_accuracy: 0.5085\n",
      "Epoch 100/100\n",
      "309/309 [==============================] - 0s 1ms/step - loss: 1.3017 - accuracy: 0.5254 - val_loss: 1.3221 - val_accuracy: 0.5085\n"
     ]
    },
    {
     "data": {
      "text/plain": [
       "<keras.callbacks.History at 0x31aef9510>"
      ]
     },
     "execution_count": 145,
     "metadata": {},
     "output_type": "execute_result"
    }
   ],
   "source": [
    "# Fit the model\n",
    "model.fit(x_train, y_train, batch_size=32, epochs=100, validation_data=(x_test, y_test))"
   ]
  },
  {
   "cell_type": "code",
   "execution_count": 147,
   "metadata": {},
   "outputs": [
    {
     "name": "stdout",
     "output_type": "stream",
     "text": [
      "Model: \"sequential_1\"\n",
      "_________________________________________________________________\n",
      " Layer (type)                Output Shape              Param #   \n",
      "=================================================================\n",
      " dense_1 (Dense)             (None, 256)               10496     \n",
      "                                                                 \n",
      " activation (Activation)     (None, 256)               0         \n",
      "                                                                 \n",
      " dropout (Dropout)           (None, 256)               0         \n",
      "                                                                 \n",
      " dense_2 (Dense)             (None, 256)               65792     \n",
      "                                                                 \n",
      " activation_1 (Activation)   (None, 256)               0         \n",
      "                                                                 \n",
      " dropout_1 (Dropout)         (None, 256)               0         \n",
      "                                                                 \n",
      " dense_3 (Dense)             (None, 5)                 1285      \n",
      "                                                                 \n",
      " activation_2 (Activation)   (None, 5)                 0         \n",
      "                                                                 \n",
      "=================================================================\n",
      "Total params: 77,573\n",
      "Trainable params: 77,573\n",
      "Non-trainable params: 0\n",
      "_________________________________________________________________\n"
     ]
    }
   ],
   "source": [
    "# Display model architecture summary \n",
    "model.summary()\n",
    "\n",
    "# Calculate pre-training accuracy \n",
    "score = model.evaluate(x_test, y_test, verbose=0)\n",
    "accuracy = 100*score[1]"
   ]
  },
  {
   "cell_type": "code",
   "execution_count": 151,
   "metadata": {},
   "outputs": [
    {
     "name": "stdout",
     "output_type": "stream",
     "text": [
      "Pre-training accuracy: 50.8509%\n"
     ]
    }
   ],
   "source": [
    "# Print pre-training accuracy to 4 decimal places\n",
    "print(f\"Pre-training accuracy: {accuracy:.4f}%\")"
   ]
  },
  {
   "cell_type": "code",
   "execution_count": 155,
   "metadata": {},
   "outputs": [
    {
     "name": "stdout",
     "output_type": "stream",
     "text": [
      "Epoch 1/100\n",
      "309/309 [==============================] - 0s 1ms/step - loss: 1.3014 - accuracy: 0.5254 - val_loss: 1.3224 - val_accuracy: 0.5085\n",
      "Epoch 2/100\n",
      "309/309 [==============================] - 0s 1ms/step - loss: 1.3015 - accuracy: 0.5254 - val_loss: 1.3222 - val_accuracy: 0.5085\n",
      "Epoch 3/100\n",
      "309/309 [==============================] - 0s 1ms/step - loss: 1.3014 - accuracy: 0.5254 - val_loss: 1.3225 - val_accuracy: 0.5085\n",
      "Epoch 4/100\n",
      "309/309 [==============================] - 0s 1ms/step - loss: 1.3014 - accuracy: 0.5254 - val_loss: 1.3222 - val_accuracy: 0.5085\n",
      "Epoch 5/100\n",
      "309/309 [==============================] - 0s 1ms/step - loss: 1.3014 - accuracy: 0.5254 - val_loss: 1.3222 - val_accuracy: 0.5085\n",
      "Epoch 6/100\n",
      "309/309 [==============================] - 0s 1ms/step - loss: 1.3015 - accuracy: 0.5254 - val_loss: 1.3224 - val_accuracy: 0.5085\n",
      "Epoch 7/100\n",
      "309/309 [==============================] - 0s 1ms/step - loss: 1.3015 - accuracy: 0.5254 - val_loss: 1.3224 - val_accuracy: 0.5085\n",
      "Epoch 8/100\n",
      "309/309 [==============================] - 0s 1ms/step - loss: 1.3015 - accuracy: 0.5254 - val_loss: 1.3223 - val_accuracy: 0.5085\n",
      "Epoch 9/100\n",
      "309/309 [==============================] - 0s 1ms/step - loss: 1.3014 - accuracy: 0.5254 - val_loss: 1.3223 - val_accuracy: 0.5085\n",
      "Epoch 10/100\n",
      "309/309 [==============================] - 0s 1ms/step - loss: 1.3015 - accuracy: 0.5254 - val_loss: 1.3222 - val_accuracy: 0.5085\n",
      "Epoch 11/100\n",
      "309/309 [==============================] - 0s 1ms/step - loss: 1.3014 - accuracy: 0.5254 - val_loss: 1.3223 - val_accuracy: 0.5085\n",
      "Epoch 12/100\n",
      "309/309 [==============================] - 0s 1ms/step - loss: 1.3014 - accuracy: 0.5254 - val_loss: 1.3222 - val_accuracy: 0.5085\n",
      "Epoch 13/100\n",
      "309/309 [==============================] - 0s 1ms/step - loss: 1.3014 - accuracy: 0.5254 - val_loss: 1.3222 - val_accuracy: 0.5085\n",
      "Epoch 14/100\n",
      "309/309 [==============================] - 0s 1ms/step - loss: 1.3014 - accuracy: 0.5254 - val_loss: 1.3223 - val_accuracy: 0.5085\n",
      "Epoch 15/100\n",
      "309/309 [==============================] - 0s 2ms/step - loss: 1.3014 - accuracy: 0.5254 - val_loss: 1.3223 - val_accuracy: 0.5085\n",
      "Epoch 16/100\n",
      "309/309 [==============================] - 0s 1ms/step - loss: 1.3014 - accuracy: 0.5254 - val_loss: 1.3222 - val_accuracy: 0.5085\n",
      "Epoch 17/100\n",
      "309/309 [==============================] - 0s 1ms/step - loss: 1.3014 - accuracy: 0.5254 - val_loss: 1.3223 - val_accuracy: 0.5085\n",
      "Epoch 18/100\n",
      "309/309 [==============================] - 0s 1ms/step - loss: 1.3014 - accuracy: 0.5254 - val_loss: 1.3223 - val_accuracy: 0.5085\n",
      "Epoch 19/100\n",
      "309/309 [==============================] - 0s 1ms/step - loss: 1.3014 - accuracy: 0.5254 - val_loss: 1.3222 - val_accuracy: 0.5085\n",
      "Epoch 20/100\n",
      "309/309 [==============================] - 0s 1ms/step - loss: 1.3014 - accuracy: 0.5254 - val_loss: 1.3223 - val_accuracy: 0.5085\n",
      "Epoch 21/100\n",
      "309/309 [==============================] - 0s 1ms/step - loss: 1.3014 - accuracy: 0.5254 - val_loss: 1.3222 - val_accuracy: 0.5085\n",
      "Epoch 22/100\n",
      "309/309 [==============================] - 0s 1ms/step - loss: 1.3015 - accuracy: 0.5254 - val_loss: 1.3222 - val_accuracy: 0.5085\n",
      "Epoch 23/100\n",
      "309/309 [==============================] - 0s 1ms/step - loss: 1.3014 - accuracy: 0.5254 - val_loss: 1.3222 - val_accuracy: 0.5085\n",
      "Epoch 24/100\n",
      "309/309 [==============================] - 0s 1ms/step - loss: 1.3014 - accuracy: 0.5254 - val_loss: 1.3223 - val_accuracy: 0.5085\n",
      "Epoch 25/100\n",
      "309/309 [==============================] - 0s 1ms/step - loss: 1.3014 - accuracy: 0.5254 - val_loss: 1.3221 - val_accuracy: 0.5085\n",
      "Epoch 26/100\n",
      "309/309 [==============================] - 0s 1ms/step - loss: 1.3014 - accuracy: 0.5254 - val_loss: 1.3223 - val_accuracy: 0.5085\n",
      "Epoch 27/100\n",
      "309/309 [==============================] - 0s 1ms/step - loss: 1.3014 - accuracy: 0.5254 - val_loss: 1.3224 - val_accuracy: 0.5085\n",
      "Epoch 28/100\n",
      "309/309 [==============================] - 0s 1ms/step - loss: 1.3015 - accuracy: 0.5254 - val_loss: 1.3226 - val_accuracy: 0.5085\n",
      "Epoch 29/100\n",
      "309/309 [==============================] - 0s 1ms/step - loss: 1.3015 - accuracy: 0.5254 - val_loss: 1.3223 - val_accuracy: 0.5085\n",
      "Epoch 30/100\n",
      "309/309 [==============================] - 0s 1ms/step - loss: 1.3014 - accuracy: 0.5254 - val_loss: 1.3223 - val_accuracy: 0.5085\n",
      "Epoch 31/100\n",
      "309/309 [==============================] - 0s 1ms/step - loss: 1.3014 - accuracy: 0.5254 - val_loss: 1.3221 - val_accuracy: 0.5085\n",
      "Epoch 32/100\n",
      "309/309 [==============================] - 0s 1ms/step - loss: 1.3015 - accuracy: 0.5254 - val_loss: 1.3222 - val_accuracy: 0.5085\n",
      "Epoch 33/100\n",
      "309/309 [==============================] - 0s 1ms/step - loss: 1.3014 - accuracy: 0.5254 - val_loss: 1.3222 - val_accuracy: 0.5085\n",
      "Epoch 34/100\n",
      "309/309 [==============================] - 0s 1ms/step - loss: 1.3014 - accuracy: 0.5254 - val_loss: 1.3223 - val_accuracy: 0.5085\n",
      "Epoch 35/100\n",
      "309/309 [==============================] - 0s 1ms/step - loss: 1.3014 - accuracy: 0.5254 - val_loss: 1.3224 - val_accuracy: 0.5085\n",
      "Epoch 36/100\n",
      "309/309 [==============================] - 0s 1ms/step - loss: 1.3015 - accuracy: 0.5254 - val_loss: 1.3223 - val_accuracy: 0.5085\n",
      "Epoch 37/100\n",
      "309/309 [==============================] - 0s 1ms/step - loss: 1.3014 - accuracy: 0.5254 - val_loss: 1.3222 - val_accuracy: 0.5085\n",
      "Epoch 38/100\n",
      "309/309 [==============================] - 0s 1ms/step - loss: 1.3015 - accuracy: 0.5254 - val_loss: 1.3222 - val_accuracy: 0.5085\n",
      "Epoch 39/100\n",
      "309/309 [==============================] - 0s 1ms/step - loss: 1.3014 - accuracy: 0.5254 - val_loss: 1.3222 - val_accuracy: 0.5085\n",
      "Epoch 40/100\n",
      "309/309 [==============================] - 0s 1ms/step - loss: 1.3015 - accuracy: 0.5254 - val_loss: 1.3221 - val_accuracy: 0.5085\n",
      "Epoch 41/100\n",
      "309/309 [==============================] - 0s 1ms/step - loss: 1.3015 - accuracy: 0.5254 - val_loss: 1.3222 - val_accuracy: 0.5085\n",
      "Epoch 42/100\n",
      "309/309 [==============================] - 0s 1ms/step - loss: 1.3014 - accuracy: 0.5254 - val_loss: 1.3222 - val_accuracy: 0.5085\n",
      "Epoch 43/100\n",
      "309/309 [==============================] - 0s 1ms/step - loss: 1.3015 - accuracy: 0.5254 - val_loss: 1.3223 - val_accuracy: 0.5085\n",
      "Epoch 44/100\n",
      "309/309 [==============================] - 0s 1ms/step - loss: 1.3014 - accuracy: 0.5254 - val_loss: 1.3224 - val_accuracy: 0.5085\n",
      "Epoch 45/100\n",
      "309/309 [==============================] - 0s 1ms/step - loss: 1.3015 - accuracy: 0.5254 - val_loss: 1.3223 - val_accuracy: 0.5085\n",
      "Epoch 46/100\n",
      "309/309 [==============================] - 0s 1ms/step - loss: 1.3014 - accuracy: 0.5254 - val_loss: 1.3222 - val_accuracy: 0.5085\n",
      "Epoch 47/100\n",
      "309/309 [==============================] - 0s 1ms/step - loss: 1.3014 - accuracy: 0.5254 - val_loss: 1.3222 - val_accuracy: 0.5085\n",
      "Epoch 48/100\n",
      "309/309 [==============================] - 0s 1ms/step - loss: 1.3014 - accuracy: 0.5254 - val_loss: 1.3221 - val_accuracy: 0.5085\n",
      "Epoch 49/100\n",
      "309/309 [==============================] - 0s 1ms/step - loss: 1.3014 - accuracy: 0.5254 - val_loss: 1.3222 - val_accuracy: 0.5085\n",
      "Epoch 50/100\n",
      "309/309 [==============================] - 0s 1ms/step - loss: 1.3015 - accuracy: 0.5254 - val_loss: 1.3222 - val_accuracy: 0.5085\n",
      "Epoch 51/100\n",
      "309/309 [==============================] - 0s 1ms/step - loss: 1.3014 - accuracy: 0.5254 - val_loss: 1.3222 - val_accuracy: 0.5085\n",
      "Epoch 52/100\n",
      "309/309 [==============================] - 0s 1ms/step - loss: 1.3014 - accuracy: 0.5254 - val_loss: 1.3223 - val_accuracy: 0.5085\n",
      "Epoch 53/100\n",
      "309/309 [==============================] - 0s 1ms/step - loss: 1.3014 - accuracy: 0.5254 - val_loss: 1.3224 - val_accuracy: 0.5085\n",
      "Epoch 54/100\n",
      "309/309 [==============================] - 0s 1ms/step - loss: 1.3014 - accuracy: 0.5254 - val_loss: 1.3224 - val_accuracy: 0.5085\n",
      "Epoch 55/100\n",
      "309/309 [==============================] - 0s 1ms/step - loss: 1.3014 - accuracy: 0.5254 - val_loss: 1.3223 - val_accuracy: 0.5085\n",
      "Epoch 56/100\n",
      "309/309 [==============================] - 0s 1ms/step - loss: 1.3014 - accuracy: 0.5254 - val_loss: 1.3221 - val_accuracy: 0.5085\n",
      "Epoch 57/100\n",
      "309/309 [==============================] - 0s 1ms/step - loss: 1.3014 - accuracy: 0.5254 - val_loss: 1.3222 - val_accuracy: 0.5085\n",
      "Epoch 58/100\n",
      "309/309 [==============================] - 0s 1ms/step - loss: 1.3014 - accuracy: 0.5254 - val_loss: 1.3222 - val_accuracy: 0.5085\n",
      "Epoch 59/100\n",
      "309/309 [==============================] - 0s 1ms/step - loss: 1.3014 - accuracy: 0.5254 - val_loss: 1.3222 - val_accuracy: 0.5085\n",
      "Epoch 60/100\n",
      "309/309 [==============================] - 0s 1ms/step - loss: 1.3014 - accuracy: 0.5254 - val_loss: 1.3222 - val_accuracy: 0.5085\n",
      "Epoch 61/100\n",
      "309/309 [==============================] - 0s 1ms/step - loss: 1.3014 - accuracy: 0.5254 - val_loss: 1.3224 - val_accuracy: 0.5085\n",
      "Epoch 62/100\n",
      "309/309 [==============================] - 0s 1ms/step - loss: 1.3014 - accuracy: 0.5254 - val_loss: 1.3224 - val_accuracy: 0.5085\n",
      "Epoch 63/100\n",
      "309/309 [==============================] - 0s 1ms/step - loss: 1.3015 - accuracy: 0.5254 - val_loss: 1.3223 - val_accuracy: 0.5085\n",
      "Epoch 64/100\n",
      "309/309 [==============================] - 0s 1ms/step - loss: 1.3014 - accuracy: 0.5254 - val_loss: 1.3223 - val_accuracy: 0.5085\n",
      "Epoch 65/100\n",
      "309/309 [==============================] - 0s 1ms/step - loss: 1.3014 - accuracy: 0.5254 - val_loss: 1.3221 - val_accuracy: 0.5085\n",
      "Epoch 66/100\n",
      "309/309 [==============================] - 0s 1ms/step - loss: 1.3014 - accuracy: 0.5254 - val_loss: 1.3221 - val_accuracy: 0.5085\n",
      "Epoch 67/100\n",
      "309/309 [==============================] - 0s 1ms/step - loss: 1.3014 - accuracy: 0.5254 - val_loss: 1.3220 - val_accuracy: 0.5085\n",
      "Epoch 68/100\n",
      "309/309 [==============================] - 0s 1ms/step - loss: 1.3014 - accuracy: 0.5254 - val_loss: 1.3222 - val_accuracy: 0.5085\n",
      "Epoch 69/100\n",
      "309/309 [==============================] - 0s 1ms/step - loss: 1.3014 - accuracy: 0.5254 - val_loss: 1.3223 - val_accuracy: 0.5085\n",
      "Epoch 70/100\n",
      "309/309 [==============================] - 0s 1ms/step - loss: 1.3014 - accuracy: 0.5254 - val_loss: 1.3223 - val_accuracy: 0.5085\n",
      "Epoch 71/100\n",
      "309/309 [==============================] - 0s 1ms/step - loss: 1.3014 - accuracy: 0.5254 - val_loss: 1.3223 - val_accuracy: 0.5085\n",
      "Epoch 72/100\n",
      "309/309 [==============================] - 0s 1ms/step - loss: 1.3015 - accuracy: 0.5254 - val_loss: 1.3222 - val_accuracy: 0.5085\n",
      "Epoch 73/100\n",
      "309/309 [==============================] - 1s 2ms/step - loss: 1.3015 - accuracy: 0.5254 - val_loss: 1.3222 - val_accuracy: 0.5085\n",
      "Epoch 74/100\n",
      "309/309 [==============================] - 0s 1ms/step - loss: 1.3014 - accuracy: 0.5254 - val_loss: 1.3223 - val_accuracy: 0.5085\n",
      "Epoch 75/100\n",
      "309/309 [==============================] - 0s 1ms/step - loss: 1.3014 - accuracy: 0.5254 - val_loss: 1.3221 - val_accuracy: 0.5085\n",
      "Epoch 76/100\n",
      "309/309 [==============================] - 0s 1ms/step - loss: 1.3015 - accuracy: 0.5254 - val_loss: 1.3221 - val_accuracy: 0.5085\n",
      "Epoch 77/100\n",
      "309/309 [==============================] - 0s 1ms/step - loss: 1.3014 - accuracy: 0.5254 - val_loss: 1.3222 - val_accuracy: 0.5085\n",
      "Epoch 78/100\n",
      "309/309 [==============================] - 0s 2ms/step - loss: 1.3014 - accuracy: 0.5254 - val_loss: 1.3223 - val_accuracy: 0.5085\n",
      "Epoch 79/100\n",
      "309/309 [==============================] - 0s 1ms/step - loss: 1.3015 - accuracy: 0.5254 - val_loss: 1.3223 - val_accuracy: 0.5085\n",
      "Epoch 80/100\n",
      "309/309 [==============================] - 0s 1ms/step - loss: 1.3014 - accuracy: 0.5254 - val_loss: 1.3224 - val_accuracy: 0.5085\n",
      "Epoch 81/100\n",
      "309/309 [==============================] - 0s 1ms/step - loss: 1.3014 - accuracy: 0.5254 - val_loss: 1.3222 - val_accuracy: 0.5085\n",
      "Epoch 82/100\n",
      "309/309 [==============================] - 0s 1ms/step - loss: 1.3014 - accuracy: 0.5254 - val_loss: 1.3223 - val_accuracy: 0.5085\n",
      "Epoch 83/100\n",
      "309/309 [==============================] - 0s 1ms/step - loss: 1.3014 - accuracy: 0.5254 - val_loss: 1.3223 - val_accuracy: 0.5085\n",
      "Epoch 84/100\n",
      "309/309 [==============================] - 0s 1ms/step - loss: 1.3014 - accuracy: 0.5254 - val_loss: 1.3223 - val_accuracy: 0.5085\n",
      "Epoch 85/100\n",
      "309/309 [==============================] - 0s 1ms/step - loss: 1.3014 - accuracy: 0.5254 - val_loss: 1.3223 - val_accuracy: 0.5085\n",
      "Epoch 86/100\n",
      "309/309 [==============================] - 0s 1ms/step - loss: 1.3015 - accuracy: 0.5254 - val_loss: 1.3224 - val_accuracy: 0.5085\n",
      "Epoch 87/100\n",
      "309/309 [==============================] - 0s 1ms/step - loss: 1.3015 - accuracy: 0.5254 - val_loss: 1.3224 - val_accuracy: 0.5085\n",
      "Epoch 88/100\n",
      "309/309 [==============================] - 0s 1ms/step - loss: 1.3014 - accuracy: 0.5254 - val_loss: 1.3222 - val_accuracy: 0.5085\n",
      "Epoch 89/100\n",
      "309/309 [==============================] - 0s 1ms/step - loss: 1.3014 - accuracy: 0.5254 - val_loss: 1.3222 - val_accuracy: 0.5085\n",
      "Epoch 90/100\n",
      "309/309 [==============================] - 0s 1ms/step - loss: 1.3015 - accuracy: 0.5254 - val_loss: 1.3223 - val_accuracy: 0.5085\n",
      "Epoch 91/100\n",
      "309/309 [==============================] - 0s 1ms/step - loss: 1.3014 - accuracy: 0.5254 - val_loss: 1.3224 - val_accuracy: 0.5085\n",
      "Epoch 92/100\n",
      "309/309 [==============================] - 0s 1ms/step - loss: 1.3014 - accuracy: 0.5254 - val_loss: 1.3221 - val_accuracy: 0.5085\n",
      "Epoch 93/100\n",
      "309/309 [==============================] - 0s 1ms/step - loss: 1.3014 - accuracy: 0.5254 - val_loss: 1.3222 - val_accuracy: 0.5085\n",
      "Epoch 94/100\n",
      "309/309 [==============================] - 0s 1ms/step - loss: 1.3014 - accuracy: 0.5254 - val_loss: 1.3222 - val_accuracy: 0.5085\n",
      "Epoch 95/100\n",
      "309/309 [==============================] - 0s 1ms/step - loss: 1.3014 - accuracy: 0.5254 - val_loss: 1.3221 - val_accuracy: 0.5085\n",
      "Epoch 96/100\n",
      "309/309 [==============================] - 0s 1ms/step - loss: 1.3014 - accuracy: 0.5254 - val_loss: 1.3225 - val_accuracy: 0.5085\n",
      "Epoch 97/100\n",
      "309/309 [==============================] - 0s 1ms/step - loss: 1.3014 - accuracy: 0.5254 - val_loss: 1.3222 - val_accuracy: 0.5085\n",
      "Epoch 98/100\n",
      "309/309 [==============================] - 0s 1ms/step - loss: 1.3014 - accuracy: 0.5254 - val_loss: 1.3224 - val_accuracy: 0.5085\n",
      "Epoch 99/100\n",
      "309/309 [==============================] - 0s 1ms/step - loss: 1.3014 - accuracy: 0.5254 - val_loss: 1.3223 - val_accuracy: 0.5085\n",
      "Epoch 100/100\n",
      "309/309 [==============================] - 0s 1ms/step - loss: 1.3014 - accuracy: 0.5254 - val_loss: 1.3224 - val_accuracy: 0.5085\n"
     ]
    }
   ],
   "source": [
    "from keras.callbacks import ModelCheckpoint \n",
    "from datetime import datetime \n",
    "\n",
    "num_epochs = 100\n",
    "num_batch_size = 32\n",
    "\n",
    "history = model.fit(x_train, y_train, batch_size=num_batch_size, epochs=num_epochs, validation_data=(x_test, y_test), verbose=1)"
   ]
  },
  {
   "cell_type": "code",
   "execution_count": 153,
   "metadata": {},
   "outputs": [
    {
     "name": "stdout",
     "output_type": "stream",
     "text": [
      "Training Accuracy: 52.54%\n",
      "Testing Accuracy: 50.85%\n"
     ]
    }
   ],
   "source": [
    "# Evaluating the model on the training and testing set\n",
    "score = model.evaluate(x_train, y_train, verbose=0)\n",
    "print(\"Training Accuracy: {0:.2%}\".format(score[1]))\n",
    "\n",
    "score = model.evaluate(x_test, y_test, verbose=0)\n",
    "print(\"Testing Accuracy: {0:.2%}\".format(score[1]))"
   ]
  },
  {
   "cell_type": "code",
   "execution_count": 158,
   "metadata": {},
   "outputs": [
    {
     "data": {
      "text/plain": [
       "(0.0, 1.0)"
      ]
     },
     "execution_count": 158,
     "metadata": {},
     "output_type": "execute_result"
    },
    {
     "data": {
      "image/png": "[encoded data removed]",
      "text/plain": [
       "<Figure size 1500x500 with 2 Axes>"
      ]
     },
     "metadata": {},
     "output_type": "display_data"
    }
   ],
   "source": [
    "plt.figure(figsize=(15,5))\n",
    "\n",
    "plt_loss = plt.subplot(121)\n",
    "plt_loss.plot(history.history[\"loss\"])\n",
    "plt_loss.plot(history.history[\"val_loss\"])\n",
    "\n",
    "# plt.title(\"\")\n",
    "plt.ylabel(\"Loss\")\n",
    "plt.xlabel(\"Epoch\")\n",
    "plt.legend([\"Training\", \"Validation\"], loc=\"upper right\")\n",
    "\n",
    "plt_accuracy = plt.subplot(122)\n",
    "plt_accuracy.plot(history.history[\"accuracy\"])\n",
    "plt_accuracy.plot(history.history[\"val_accuracy\"])\n",
    "# plt.title(\"\")\n",
    "plt.ylabel(\"Accuracy\")\n",
    "plt.xlabel(\"Epoch\")\n",
    "plt.legend([\"Training\", \"Validation\"], loc=\"lower right\")\n",
    "plt.ylim(0,1)"
   ]
  },
  {
   "attachments": {},
   "cell_type": "markdown",
   "metadata": {},
   "source": [
    "# UNTIL HERE!!! THERE REST IS JUST SCRAP CODE"
   ]
  },
  {
   "attachments": {},
   "cell_type": "markdown",
   "metadata": {},
   "source": [
    "### PYTORCH APPROACH"
   ]
  },
  {
   "attachments": {},
   "cell_type": "markdown",
   "metadata": {},
   "source": [
    "#### Imports"
   ]
  },
  {
   "cell_type": "code",
   "execution_count": 72,
   "metadata": {},
   "outputs": [],
   "source": [
    "import torch\n",
    "import torch.nn as nn\n",
    "import torch.optim as optim\n",
    "from torch.utils.data import DataLoader, TensorDataset"
   ]
  },
  {
   "attachments": {},
   "cell_type": "markdown",
   "metadata": {},
   "source": [
    "## Feature selection with Boruta"
   ]
  },
  {
   "attachments": {},
   "cell_type": "markdown",
   "metadata": {},
   "source": [
    "The error message \"TypeError: only size-1 arrays can be converted to Python scalars\" is usually caused by trying to convert an array with multiple values to a Python scalar. This can happen when the code is expecting a single value but gets an array instead.\n",
    "\n",
    "The error message \"ValueError: setting an array element with a sequence\" usually occurs when you try to assign a sequence (e.g. list or array) to an array element that expects a scalar value. This can happen if the data types of the array elements are not consistent.\n",
    "\n",
    "In your code, it's possible that the data types of the feature matrix and target variable are not consistent, or that there are missing or non-numeric values in the data. You could try converting the feature matrix and target variable to numpy arrays using .astype(float) to ensure that they are numeric, and then check if there are any missing values using .isnull().sum(). You could also try removing any rows with missing values using .dropna()."
   ]
  },
  {
   "cell_type": "code",
   "execution_count": null,
   "metadata": {},
   "outputs": [],
   "source": [
    "from boruta import BorutaPy\n",
    "from sklearn.ensemble import RandomForestClassifier\n",
    "import numpy as np"
   ]
  },
  {
   "cell_type": "code",
   "execution_count": null,
   "metadata": {},
   "outputs": [
    {
     "ename": "ValueError",
     "evalue": "setting an array element with a sequence.",
     "output_type": "error",
     "traceback": [
      "\u001b[0;31m---------------------------------------------------------------------------\u001b[0m",
      "\u001b[0;31mTypeError\u001b[0m                                 Traceback (most recent call last)",
      "\u001b[0;31mTypeError\u001b[0m: only size-1 arrays can be converted to Python scalars",
      "\nThe above exception was the direct cause of the following exception:\n",
      "\u001b[0;31mValueError\u001b[0m                                Traceback (most recent call last)",
      "\u001b[1;32m/Users/rblc/code/iamrblc/laica/examples/feature_extraction.ipynb Cell 17\u001b[0m in \u001b[0;36m1\n\u001b[1;32m     <a href='vscode-notebook-cell:/Users/rblc/code/iamrblc/laica/examples/feature_extraction.ipynb#X52sZmlsZQ%3D%3D?line=12'>13</a>\u001b[0m boruta \u001b[39m=\u001b[39m BorutaPy(rf, n_estimators\u001b[39m=\u001b[39m\u001b[39m'\u001b[39m\u001b[39mauto\u001b[39m\u001b[39m'\u001b[39m, verbose\u001b[39m=\u001b[39m\u001b[39m2\u001b[39m, random_state\u001b[39m=\u001b[39m\u001b[39m1\u001b[39m)\n\u001b[1;32m     <a href='vscode-notebook-cell:/Users/rblc/code/iamrblc/laica/examples/feature_extraction.ipynb#X52sZmlsZQ%3D%3D?line=14'>15</a>\u001b[0m \u001b[39m# Run the Boruta algorithm to select the most important features\u001b[39;00m\n\u001b[0;32m---> <a href='vscode-notebook-cell:/Users/rblc/code/iamrblc/laica/examples/feature_extraction.ipynb#X52sZmlsZQ%3D%3D?line=15'>16</a>\u001b[0m boruta\u001b[39m.\u001b[39;49mfit(X, y)\n\u001b[1;32m     <a href='vscode-notebook-cell:/Users/rblc/code/iamrblc/laica/examples/feature_extraction.ipynb#X52sZmlsZQ%3D%3D?line=17'>18</a>\u001b[0m \u001b[39m# Get the selected features\u001b[39;00m\n\u001b[1;32m     <a href='vscode-notebook-cell:/Users/rblc/code/iamrblc/laica/examples/feature_extraction.ipynb#X52sZmlsZQ%3D%3D?line=18'>19</a>\u001b[0m selected_features \u001b[39m=\u001b[39m snippet_df\u001b[39m.\u001b[39mdrop([\u001b[39m'\u001b[39m\u001b[39mlabel\u001b[39m\u001b[39m'\u001b[39m, \u001b[39m'\u001b[39m\u001b[39mfile_name\u001b[39m\u001b[39m'\u001b[39m], axis\u001b[39m=\u001b[39m\u001b[39m1\u001b[39m)\u001b[39m.\u001b[39mcolumns[boruta\u001b[39m.\u001b[39msupport_]\n",
      "File \u001b[0;32m~/Library/Python/3.9/lib/python/site-packages/boruta/boruta_py.py:201\u001b[0m, in \u001b[0;36mBorutaPy.fit\u001b[0;34m(self, X, y)\u001b[0m\n\u001b[1;32m    188\u001b[0m \u001b[39mdef\u001b[39;00m \u001b[39mfit\u001b[39m(\u001b[39mself\u001b[39m, X, y):\n\u001b[1;32m    189\u001b[0m     \u001b[39m\"\"\"\u001b[39;00m\n\u001b[1;32m    190\u001b[0m \u001b[39m    Fits the Boruta feature selection with the provided estimator.\u001b[39;00m\n\u001b[1;32m    191\u001b[0m \n\u001b[0;32m   (...)\u001b[0m\n\u001b[1;32m    198\u001b[0m \u001b[39m        The target values.\u001b[39;00m\n\u001b[1;32m    199\u001b[0m \u001b[39m    \"\"\"\u001b[39;00m\n\u001b[0;32m--> 201\u001b[0m     \u001b[39mreturn\u001b[39;00m \u001b[39mself\u001b[39;49m\u001b[39m.\u001b[39;49m_fit(X, y)\n",
      "File \u001b[0;32m~/Library/Python/3.9/lib/python/site-packages/boruta/boruta_py.py:251\u001b[0m, in \u001b[0;36mBorutaPy._fit\u001b[0;34m(self, X, y)\u001b[0m\n\u001b[1;32m    249\u001b[0m \u001b[39mdef\u001b[39;00m \u001b[39m_fit\u001b[39m(\u001b[39mself\u001b[39m, X, y):\n\u001b[1;32m    250\u001b[0m     \u001b[39m# check input params\u001b[39;00m\n\u001b[0;32m--> 251\u001b[0m     \u001b[39mself\u001b[39;49m\u001b[39m.\u001b[39;49m_check_params(X, y)\n\u001b[1;32m    252\u001b[0m     \u001b[39mself\u001b[39m\u001b[39m.\u001b[39mrandom_state \u001b[39m=\u001b[39m check_random_state(\u001b[39mself\u001b[39m\u001b[39m.\u001b[39mrandom_state)\n\u001b[1;32m    253\u001b[0m     \u001b[39m# setup variables for Boruta\u001b[39;00m\n",
      "File \u001b[0;32m~/Library/Python/3.9/lib/python/site-packages/boruta/boruta_py.py:517\u001b[0m, in \u001b[0;36mBorutaPy._check_params\u001b[0;34m(self, X, y)\u001b[0m\n\u001b[1;32m    513\u001b[0m \u001b[39m\"\"\"\u001b[39;00m\n\u001b[1;32m    514\u001b[0m \u001b[39mCheck hyperparameters as well as X and y before proceeding with fit.\u001b[39;00m\n\u001b[1;32m    515\u001b[0m \u001b[39m\"\"\"\u001b[39;00m\n\u001b[1;32m    516\u001b[0m \u001b[39m# check X and y are consistent len, X is Array and y is column\u001b[39;00m\n\u001b[0;32m--> 517\u001b[0m X, y \u001b[39m=\u001b[39m check_X_y(X, y)\n\u001b[1;32m    518\u001b[0m \u001b[39mif\u001b[39;00m \u001b[39mself\u001b[39m\u001b[39m.\u001b[39mperc \u001b[39m<\u001b[39m\u001b[39m=\u001b[39m \u001b[39m0\u001b[39m \u001b[39mor\u001b[39;00m \u001b[39mself\u001b[39m\u001b[39m.\u001b[39mperc \u001b[39m>\u001b[39m \u001b[39m100\u001b[39m:\n\u001b[1;32m    519\u001b[0m     \u001b[39mraise\u001b[39;00m \u001b[39mValueError\u001b[39;00m(\u001b[39m'\u001b[39m\u001b[39mThe percentile should be between 0 and 100.\u001b[39m\u001b[39m'\u001b[39m)\n",
      "File \u001b[0;32m~/Library/Python/3.9/lib/python/site-packages/sklearn/utils/validation.py:1106\u001b[0m, in \u001b[0;36mcheck_X_y\u001b[0;34m(X, y, accept_sparse, accept_large_sparse, dtype, order, copy, force_all_finite, ensure_2d, allow_nd, multi_output, ensure_min_samples, ensure_min_features, y_numeric, estimator)\u001b[0m\n\u001b[1;32m   1101\u001b[0m         estimator_name \u001b[39m=\u001b[39m _check_estimator_name(estimator)\n\u001b[1;32m   1102\u001b[0m     \u001b[39mraise\u001b[39;00m \u001b[39mValueError\u001b[39;00m(\n\u001b[1;32m   1103\u001b[0m         \u001b[39mf\u001b[39m\u001b[39m\"\u001b[39m\u001b[39m{\u001b[39;00mestimator_name\u001b[39m}\u001b[39;00m\u001b[39m requires y to be passed, but the target y is None\u001b[39m\u001b[39m\"\u001b[39m\n\u001b[1;32m   1104\u001b[0m     )\n\u001b[0;32m-> 1106\u001b[0m X \u001b[39m=\u001b[39m check_array(\n\u001b[1;32m   1107\u001b[0m     X,\n\u001b[1;32m   1108\u001b[0m     accept_sparse\u001b[39m=\u001b[39;49maccept_sparse,\n\u001b[1;32m   1109\u001b[0m     accept_large_sparse\u001b[39m=\u001b[39;49maccept_large_sparse,\n\u001b[1;32m   1110\u001b[0m     dtype\u001b[39m=\u001b[39;49mdtype,\n\u001b[1;32m   1111\u001b[0m     order\u001b[39m=\u001b[39;49morder,\n\u001b[1;32m   1112\u001b[0m     copy\u001b[39m=\u001b[39;49mcopy,\n\u001b[1;32m   1113\u001b[0m     force_all_finite\u001b[39m=\u001b[39;49mforce_all_finite,\n\u001b[1;32m   1114\u001b[0m     ensure_2d\u001b[39m=\u001b[39;49mensure_2d,\n\u001b[1;32m   1115\u001b[0m     allow_nd\u001b[39m=\u001b[39;49mallow_nd,\n\u001b[1;32m   1116\u001b[0m     ensure_min_samples\u001b[39m=\u001b[39;49mensure_min_samples,\n\u001b[1;32m   1117\u001b[0m     ensure_min_features\u001b[39m=\u001b[39;49mensure_min_features,\n\u001b[1;32m   1118\u001b[0m     estimator\u001b[39m=\u001b[39;49mestimator,\n\u001b[1;32m   1119\u001b[0m     input_name\u001b[39m=\u001b[39;49m\u001b[39m\"\u001b[39;49m\u001b[39mX\u001b[39;49m\u001b[39m\"\u001b[39;49m,\n\u001b[1;32m   1120\u001b[0m )\n\u001b[1;32m   1122\u001b[0m y \u001b[39m=\u001b[39m _check_y(y, multi_output\u001b[39m=\u001b[39mmulti_output, y_numeric\u001b[39m=\u001b[39my_numeric, estimator\u001b[39m=\u001b[39mestimator)\n\u001b[1;32m   1124\u001b[0m check_consistent_length(X, y)\n",
      "File \u001b[0;32m~/Library/Python/3.9/lib/python/site-packages/sklearn/utils/validation.py:879\u001b[0m, in \u001b[0;36mcheck_array\u001b[0;34m(array, accept_sparse, accept_large_sparse, dtype, order, copy, force_all_finite, ensure_2d, allow_nd, ensure_min_samples, ensure_min_features, estimator, input_name)\u001b[0m\n\u001b[1;32m    877\u001b[0m         array \u001b[39m=\u001b[39m xp\u001b[39m.\u001b[39mastype(array, dtype, copy\u001b[39m=\u001b[39m\u001b[39mFalse\u001b[39;00m)\n\u001b[1;32m    878\u001b[0m     \u001b[39melse\u001b[39;00m:\n\u001b[0;32m--> 879\u001b[0m         array \u001b[39m=\u001b[39m _asarray_with_order(array, order\u001b[39m=\u001b[39;49morder, dtype\u001b[39m=\u001b[39;49mdtype, xp\u001b[39m=\u001b[39;49mxp)\n\u001b[1;32m    880\u001b[0m \u001b[39mexcept\u001b[39;00m ComplexWarning \u001b[39mas\u001b[39;00m complex_warning:\n\u001b[1;32m    881\u001b[0m     \u001b[39mraise\u001b[39;00m \u001b[39mValueError\u001b[39;00m(\n\u001b[1;32m    882\u001b[0m         \u001b[39m\"\u001b[39m\u001b[39mComplex data not supported\u001b[39m\u001b[39m\\n\u001b[39;00m\u001b[39m{}\u001b[39;00m\u001b[39m\\n\u001b[39;00m\u001b[39m\"\u001b[39m\u001b[39m.\u001b[39mformat(array)\n\u001b[1;32m    883\u001b[0m     ) \u001b[39mfrom\u001b[39;00m \u001b[39mcomplex_warning\u001b[39;00m\n",
      "File \u001b[0;32m~/Library/Python/3.9/lib/python/site-packages/sklearn/utils/_array_api.py:185\u001b[0m, in \u001b[0;36m_asarray_with_order\u001b[0;34m(array, dtype, order, copy, xp)\u001b[0m\n\u001b[1;32m    182\u001b[0m     xp, _ \u001b[39m=\u001b[39m get_namespace(array)\n\u001b[1;32m    183\u001b[0m \u001b[39mif\u001b[39;00m xp\u001b[39m.\u001b[39m\u001b[39m__name__\u001b[39m \u001b[39min\u001b[39;00m {\u001b[39m\"\u001b[39m\u001b[39mnumpy\u001b[39m\u001b[39m\"\u001b[39m, \u001b[39m\"\u001b[39m\u001b[39mnumpy.array_api\u001b[39m\u001b[39m\"\u001b[39m}:\n\u001b[1;32m    184\u001b[0m     \u001b[39m# Use NumPy API to support order\u001b[39;00m\n\u001b[0;32m--> 185\u001b[0m     array \u001b[39m=\u001b[39m numpy\u001b[39m.\u001b[39;49masarray(array, order\u001b[39m=\u001b[39;49morder, dtype\u001b[39m=\u001b[39;49mdtype)\n\u001b[1;32m    186\u001b[0m     \u001b[39mreturn\u001b[39;00m xp\u001b[39m.\u001b[39masarray(array, copy\u001b[39m=\u001b[39mcopy)\n\u001b[1;32m    187\u001b[0m \u001b[39melse\u001b[39;00m:\n",
      "\u001b[0;31mValueError\u001b[0m: setting an array element with a sequence."
     ]
    }
   ],
   "source": [
    "\n",
    "\n",
    "# Assuming X is your feature matrix and y is your target variable\n",
    "X = snippet_df.drop(['label', 'file_name'], axis=1).values\n",
    "y = snippet_df['label'].values\n",
    "\n",
    "# Define a random forest classifier to use as the base estimator\n",
    "rf = RandomForestClassifier(n_jobs=-1, class_weight='balanced', max_depth=5)\n",
    "\n",
    "# Initialize the Boruta feature selection algorithm\n",
    "boruta = BorutaPy(rf, n_estimators='auto', verbose=2, random_state=1)\n",
    "\n",
    "# Run the Boruta algorithm to select the most important features\n",
    "boruta.fit(X, y)\n",
    "\n",
    "# Get the selected features\n",
    "selected_features = snippet_df.drop(['label', 'file_name'], axis=1).columns[boruta.support_]\n"
   ]
  },
  {
   "cell_type": "markdown",
   "metadata": {},
   "source": [
    "In this code, we first load the data from a CSV file that contains the audio sample names, target values, and MFCCs. We then extract the MFCCs and target values into separate arrays.\n",
    "\n",
    "Next, we reshape the MFCCs into a 3D array with shape (number of samples, number of MFCC coefficients, number of time frames, 1). The last dimension is 1 because we have a single channel (gray-scale) for the MFCCs.\n",
    "\n",
    "Then, we build a CNN model using the Keras Sequential API, with two convolutional layers, two max pooling layers, two dropout layers, and two dense layers. The final layer has a single output and uses a sigmoid activation function, which is suitable for binary classification problems.\n",
    "\n",
    "Finally, we compile the model with the binary cross-entropy loss function and the Adam optimizer, and train it on the data using a batch size of 32 and 10 epochs. The validation split of 0.1 means that 10% of the data will be used for validation during training."
   ]
  },
  {
   "cell_type": "code",
   "execution_count": 73,
   "metadata": {},
   "outputs": [
    {
     "data": {
      "text/plain": [
       "Index(['file_name', 'length', 'sample_rate', 'label', 'mfcc', 'mfcc_length'], dtype='object')"
      ]
     },
     "execution_count": 73,
     "metadata": {},
     "output_type": "execute_result"
    }
   ],
   "source": [
    "test_df.columns"
   ]
  },
  {
   "cell_type": "code",
   "execution_count": 75,
   "metadata": {},
   "outputs": [],
   "source": [
    "# Load the data\n",
    "mfcc_df = test_df[['file_name','mfcc', 'label']]"
   ]
  },
  {
   "cell_type": "code",
   "execution_count": 81,
   "metadata": {},
   "outputs": [
    {
     "name": "stderr",
     "output_type": "stream",
     "text": [
      "/var/folders/x2/6gs4vmmn5bxgqplmvj03kx240000gn/T/ipykernel_10557/4023332161.py:2: SettingWithCopyWarning: \n",
      "A value is trying to be set on a copy of a slice from a DataFrame.\n",
      "Try using .loc[row_indexer,col_indexer] = value instead\n",
      "\n",
      "See the caveats in the documentation: https://pandas.pydata.org/pandas-docs/stable/user_guide/indexing.html#returning-a-view-versus-a-copy\n",
      "  mfcc_df['mfcc'] = mfcc_df['mfcc'].apply(lambda x: x / np.linalg.norm(x))\n"
     ]
    },
    {
     "ename": "",
     "evalue": "",
     "output_type": "error",
     "traceback": [
      "\u001b[1;31mThe Kernel crashed while executing code in the the current cell or a previous cell. Please review the code in the cell(s) to identify a possible cause of the failure. Click <a href='https://aka.ms/vscodeJupyterKernelCrash'>here</a> for more info. View Jupyter <a href='command:jupyter.viewOutput'>log</a> for further details."
     ]
    },
    {
     "ename": "",
     "evalue": "",
     "output_type": "error",
     "traceback": [
      "\u001b[1;31mCanceled future for execute_request message before replies were done"
     ]
    }
   ],
   "source": [
    "# Normalize the MFCCs\n",
    "mfcc_df['mfcc'] = mfcc_df['mfcc'].apply(lambda x: x / np.linalg.norm(x))\n",
    "\n",
    "# Truncate the MFCCs to 1000 values - this will cut long ones and pad short ones\n",
    "mfcc_df['mfcc'] = mfcc_df['mfcc'].apply(lambda x: x[:1000] if len(x) >= 1000 else np.pad(x, (0, 1000 - len(x)), 'constant'))\n",
    " "
   ]
  },
  {
   "cell_type": "code",
   "execution_count": null,
   "metadata": {},
   "outputs": [],
   "source": [
    "# Extract the MFCCs and target values\n",
    "X = np.array(mfcc_df['mfcc'].tolist())\n",
    "y = np.array(mfcc_df['target'])\n",
    "\n",
    "\n",
    "# Reshape the MFCCs into a 4D tensor\n",
    "X = torch.tensor(X, dtype=torch.float32).unsqueeze(1)\n",
    "\n",
    "# Split the data into training and validation sets\n",
    "dataset = TensorDataset(X, torch.tensor(y))\n",
    "train_set, val_set = torch.utils.data.random_split(dataset, [int(len(dataset)*0.9), len(dataset)-int(len(dataset)*0.9)])\n",
    "train_loader = DataLoader(train_set, batch_size=32, shuffle=True)\n",
    "val_loader = DataLoader(val_set, batch_size=32)\n",
    "\n",
    "# Define the CNN model\n",
    "class CNN(nn.Module):\n",
    "    def __init__(self):\n",
    "        super(CNN, self).__init__()\n",
    "        self.conv1 = nn.Conv2d(1, 32, kernel_size=(3, 3))\n",
    "        self.pool1 = nn.MaxPool2d(kernel_size=(2, 2))\n",
    "        self.dropout1 = nn.Dropout2d(p=0.25)\n",
    "        self.conv2 = nn.Conv2d(32, 64, kernel_size=(3, 3))\n",
    "        self.pool2 = nn.MaxPool2d(kernel_size=(2, 2))\n",
    "        self.dropout2 = nn.Dropout2d(p=0.25)\n",
    "        self.fc1 = nn.Linear(64 * 8 * 8, 128)\n",
    "        self.dropout3 = nn.Dropout(p=0.5)\n",
    "        self.fc2 = nn.Linear(128, 1)\n",
    "        self.sigmoid = nn.Sigmoid()\n",
    "\n",
    "    def forward(self, x):\n",
    "        x = self.conv1(x)\n",
    "        x = nn.functional.relu(x)\n",
    "        x = self.pool1(x)\n",
    "        x = self.dropout1(x)\n",
    "        x = self.conv2(x)\n",
    "        x = nn.functional.relu(x)\n",
    "        x = self.pool2(x)\n",
    "        x = self.dropout2(x)\n",
    "        x = x.view(-1, 64 * 8 * 8)\n",
    "        x = self.fc1(x)\n",
    "        x = nn.functional.relu(x)\n",
    "        x = self.dropout3(x)\n",
    "        x = self.fc2(x)\n",
    "        x = self.sigmoid(x)\n",
    "        return x\n",
    "\n",
    "# Define the loss function and optimizer\n",
    "model = CNN()\n",
    "criterion = nn.BCELoss()\n",
    "optimizer = optim.Adam(model.parameters())\n",
    "\n",
    "# Train the model\n",
    "for epoch in range(10):\n",
    "    for X_batch, y_batch in train_loader:\n",
    "        optimizer.zero_grad()\n",
    "        y_pred = model(X_batch)\n",
    "        loss = criterion(y_pred, y_batch.float().unsqueeze(1))\n",
    "        loss.backward()\n",
    "        optimizer.step()\n",
    "\n",
    "    # Evaluate the model on the validation set\n",
    "    val_loss = 0\n",
    "    correct = 0\n",
    "    total = 0\n",
    "    with torch.no_grad():\n",
    "        for X_batch, y_batch in val_loader:\n",
    "            y_pred = model(X_batch)\n",
    "            val_loss += criterion(y_pred, y_batch.float().unsqueeze(1)).item()\n",
    "            pred = torch.round(y_pred)\n",
    "            correct += (pred == y_batch.float().unsqueeze(1)).sum().item()\n",
    "            total += y_batch.size(0)\n",
    "    print(f\"Epoch {epoch+1} - Train Loss: {loss:.4f} - Val Loss: {val_loss/len(val_loader):.4f} - Val Accuracy: {correct\n"
   ]
  },
  {
   "cell_type": "markdown",
   "metadata": {},
   "source": [
    "In PyTorch, convolutional layers expect the input to be a 4D tensor of shape (batch_size, num_channels, height, width). In the case of MFCCs, we have a 2D array (num_frames, num_mfcc), so we need to add an extra dimension for the number of channels.\n",
    "\n",
    "In the previous example, we used Keras/TensorFlow, which expects a 3D tensor of shape (num_frames, num_mfcc, num_channels), where num_channels is typically 1 for mono audio or 2 for stereo audio."
   ]
  },
  {
   "cell_type": "code",
   "execution_count": 1,
   "metadata": {},
   "outputs": [],
   "source": [
    "import tensorflow as tf"
   ]
  },
  {
   "cell_type": "code",
   "execution_count": 2,
   "metadata": {},
   "outputs": [],
   "source": [
    "import librosa"
   ]
  },
  {
   "cell_type": "code",
   "execution_count": null,
   "metadata": {},
   "outputs": [],
   "source": []
  }
 ],
 "metadata": {
  "kernelspec": {
   "display_name": "laica",
   "language": "python",
   "name": "python3"
  },
  "language_info": {
   "codemirror_mode": {
    "name": "ipython",
    "version": 3
   },
   "file_extension": ".py",
   "mimetype": "text/x-python",
   "name": "python",
   "nbconvert_exporter": "python",
   "pygments_lexer": "ipython3",
   "version": "3.10.6"
  },
  "orig_nbformat": 4
 },
 "nbformat": 4,
 "nbformat_minor": 2
}
