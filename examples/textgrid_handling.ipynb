{
 "cells": [
  {
   "cell_type": "code",
   "execution_count": 2,
   "metadata": {},
   "outputs": [],
   "source": [
    "from praatio import textgrid\n",
    "import pandas as pd"
   ]
  },
  {
   "cell_type": "code",
   "execution_count": 1,
   "metadata": {},
   "outputs": [],
   "source": [
    "tg_path = '/Users/rblc/code/canine_vocalization/LAICA/separation/guba2_2015szep_20150305-160451_0_nlp.TextGrid'\n",
    "wav_path = '/Users/rblc/code/canine_vocalization/experiments/experiment_test.wav'"
   ]
  },
  {
   "cell_type": "code",
   "execution_count": 3,
   "metadata": {},
   "outputs": [],
   "source": [
    "tg = textgrid.openTextgrid(tg_path, False)"
   ]
  },
  {
   "cell_type": "code",
   "execution_count": 4,
   "metadata": {},
   "outputs": [
    {
     "name": "stdout",
     "output_type": "stream",
     "text": [
      "['__class__', '__delattr__', '__dict__', '__dir__', '__doc__', '__eq__', '__format__', '__ge__', '__getattribute__', '__gt__', '__hash__', '__init__', '__init_subclass__', '__le__', '__lt__', '__module__', '__ne__', '__new__', '__reduce__', '__reduce_ex__', '__repr__', '__setattr__', '__sizeof__', '__str__', '__subclasshook__', '__weakref__', '_tierDict', 'addTier', 'appendTextgrid', 'crop', 'editTimestamps', 'eraseRegion', 'getTier', 'insertSpace', 'maxTimestamp', 'mergeTiers', 'minTimestamp', 'new', 'removeTier', 'renameTier', 'replaceTier', 'save', 'tierNames', 'tiers', 'validate']\n"
     ]
    }
   ],
   "source": [
    "print(dir(tg))\n"
   ]
  },
  {
   "cell_type": "code",
   "execution_count": 5,
   "metadata": {},
   "outputs": [
    {
     "data": {
      "text/plain": [
       "OrderedDict([('guba2015szeparacio - Start/End',\n",
       "              <praatio.data_classes.interval_tier.IntervalTier at 0x11ce510f0>),\n",
       "             ('guba2015szeparacio - Start/End - Vocalization',\n",
       "              <praatio.data_classes.interval_tier.IntervalTier at 0x11ce50d60>),\n",
       "             ('f0',\n",
       "              <praatio.data_classes.interval_tier.IntervalTier at 0x11ce51000>),\n",
       "             ('NLP',\n",
       "              <praatio.data_classes.interval_tier.IntervalTier at 0x11ce51060>)])"
      ]
     },
     "execution_count": 5,
     "metadata": {},
     "output_type": "execute_result"
    }
   ],
   "source": [
    "tg._tierDict"
   ]
  },
  {
   "cell_type": "code",
   "execution_count": 6,
   "metadata": {},
   "outputs": [],
   "source": [
    "# Arguments: tierName, intervalList, minTimestamp, maxTimestamp\n",
    "silence_tier = textgrid.IntervalTier('silences', [], 0, 1.0)"
   ]
  },
  {
   "cell_type": "code",
   "execution_count": 7,
   "metadata": {},
   "outputs": [
    {
     "name": "stdout",
     "output_type": "stream",
     "text": [
      "('guba2015szeparacio - Start/End', 'guba2015szeparacio - Start/End - Vocalization', 'f0', 'NLP')\n"
     ]
    }
   ],
   "source": [
    "print(tg.tierNames)"
   ]
  },
  {
   "cell_type": "code",
   "execution_count": 11,
   "metadata": {},
   "outputs": [],
   "source": [
    "# Position in the textgrid\n",
    "first_tier = tg.getTier(tg.tierNames[1])\n",
    "\n",
    "\n",
    "# Name of the textgrid\n",
    "first_tier_name = tg.getTier('guba2015szeparacio - Start/End - Vocalization')\n",
    "\n",
    "# These are the same"
   ]
  },
  {
   "cell_type": "code",
   "execution_count": 12,
   "metadata": {},
   "outputs": [
    {
     "data": {
      "text/plain": [
       "(Interval(start=97.6, end=98.2, label='Barking/Yelping'),\n",
       " Interval(start=107.8, end=108.21299116536449, label='Barking/Yelping'),\n",
       " Interval(start=108.54301085819617, end=110.2, label='Whining'),\n",
       " Interval(start=110.8, end=114.4, label='Whining'),\n",
       " Interval(start=115.30841456124543, end=117.0, label='Whining'),\n",
       " Interval(start=118.8, end=120.2, label='Whining'),\n",
       " Interval(start=123.0, end=123.44706306471315, label='Barking/Yelping'),\n",
       " Interval(start=123.6, end=124.4, label='Whining'),\n",
       " Interval(start=129.0, end=129.89276019033173, label='Barking/Yelping'),\n",
       " Interval(start=129.89276019033173, end=130.76964509227065, label='Whining'),\n",
       " Interval(start=130.76964509227065, end=131.4, label='Barking/Yelping'),\n",
       " Interval(start=140.119773021326, end=141.2, label='Barking/Yelping'),\n",
       " Interval(start=145.8, end=146.8439242627713, label='Barking/Yelping'),\n",
       " Interval(start=152.0561674005735, end=153.0, label='Barking/Yelping'),\n",
       " Interval(start=153.0, end=154.31473967339025, label='Other vocalization'),\n",
       " Interval(start=155.2, end=156.4, label='Barking/Yelping'),\n",
       " Interval(start=156.4, end=156.8, label='Other vocalization'),\n",
       " Interval(start=161.0, end=162.0, label='Barking/Yelping'),\n",
       " Interval(start=163.0, end=167.09235591250908, label='Whining'),\n",
       " Interval(start=169.0, end=170.6, label='Whining'),\n",
       " Interval(start=170.6, end=171.2, label='Barking/Yelping'),\n",
       " Interval(start=171.31422009893097, end=171.6648660225646, label='Whining'),\n",
       " Interval(start=175.2, end=176.24388926060408, label='Barking/Yelping'),\n",
       " Interval(start=181.67658729682674, end=182.0, label='Other vocalization'),\n",
       " Interval(start=182.0, end=183.0, label='Barking/Yelping'),\n",
       " Interval(start=192.8, end=196.2, label='Panting'),\n",
       " Interval(start=196.2, end=197.6, label='Whining'),\n",
       " Interval(start=198.82305548041302, end=199.27683255805658, label='Whining'),\n",
       " Interval(start=202.4, end=204.2, label='Whining'),\n",
       " Interval(start=205.6, end=206.65008611492394, label='Barking/Yelping'),\n",
       " Interval(start=208.4, end=209.41400104238917, label='Barking/Yelping'),\n",
       " Interval(start=214.8, end=216.4, label='Barking/Yelping'),\n",
       " Interval(start=220.8, end=221.8, label='Barking/Yelping'),\n",
       " Interval(start=221.8, end=222.2, label='Other vocalization'),\n",
       " Interval(start=222.2, end=222.8, label='Barking/Yelping'),\n",
       " Interval(start=228.4, end=230.0, label='Barking/Yelping'),\n",
       " Interval(start=233.0, end=234.6, label='Barking/Yelping'),\n",
       " Interval(start=234.6, end=235.4, label='Panting'),\n",
       " Interval(start=237.0, end=238.0, label='Barking/Yelping'),\n",
       " Interval(start=238.4, end=238.6, label='Other vocalization'),\n",
       " Interval(start=238.6, end=240.0, label='Whining'),\n",
       " Interval(start=243.0, end=243.8, label='Whining'),\n",
       " Interval(start=245.4, end=247.6080799355189, label='Whining'),\n",
       " Interval(start=254.0, end=255.8, label='Barking/Yelping'),\n",
       " Interval(start=255.8, end=257.2, label='Panting'),\n",
       " Interval(start=262.4, end=264.4, label='Barking/Yelping'),\n",
       " Interval(start=269.73021985378045, end=271.2, label='Whining'),\n",
       " Interval(start=271.8, end=272.2, label='Panting'),\n",
       " Interval(start=272.2, end=275.0, label='Whining'),\n",
       " Interval(start=275.0, end=275.4, label='Panting'),\n",
       " Interval(start=276.0, end=276.8, label='Panting'),\n",
       " Interval(start=276.8, end=280.0, label='Whining'),\n",
       " Interval(start=280.0, end=281.0, label='Panting'),\n",
       " Interval(start=281.6, end=281.9603073647146, label='Barking/Yelping'),\n",
       " Interval(start=281.9603073647146, end=283.35824391155626, label='Whining'))"
      ]
     },
     "execution_count": 12,
     "metadata": {},
     "output_type": "execute_result"
    }
   ],
   "source": [
    "# It takes only those that have a label \n",
    "# This is useful, so we don't need to filter\n",
    "first_tier.entries"
   ]
  },
  {
   "cell_type": "code",
   "execution_count": 103,
   "metadata": {},
   "outputs": [
    {
     "data": {
      "text/plain": [
       "[(4.547291573573553, 4.9254711220228895, 'growl'),\n",
       " (5.7584548304887395, 6.714217689297063, 'growl'),\n",
       " (9.845207645773877, 11.53670162611091, 'growl'),\n",
       " (16.133797105075406, 17.69808523729766, 'growl'),\n",
       " (19.793856897909656, 21.34095505065694, 'growl'),\n",
       " (32.434187559006105, 34.061065759637195, 'growl'),\n",
       " (36.552143529869525, 38.099241682616814, 'growl'),\n",
       " (43.47813255988603, 45.369030302132714, 'growl'),\n",
       " (47.41634310036098, 48.35147798379934, 'growl'),\n",
       " (55.92048440083175, 56.271159982121134, 'growl'),\n",
       " (57.06877502975974, 58.09325123395814, 'growl'),\n",
       " (71.51795780005759, 71.9710657596372, 'growl'),\n",
       " (72.54106575963719, 73.35040961208936, 'growl'),\n",
       " (75.42409955985732, 75.8332210713616, 'growl'),\n",
       " (78.00947247289278, 78.32920609112722, 'growl'),\n",
       " (81.90313001709998, 82.89327283485825, 'growl'),\n",
       " (87.14962523714277, 87.53811877327709, 'growl'),\n",
       " (89.49433843752865, 90.6110657596372, 'growl'),\n",
       " (91.0667606402378, 91.8810657596372, 'growl'),\n",
       " (95.15338447729916, 95.4696800987829, 'growl')]"
      ]
     },
     "execution_count": 103,
     "metadata": {},
     "output_type": "execute_result"
    }
   ],
   "source": [
    "entry_list = [(entry.start, entry.end, entry.label) for entry in first_tier.entries]\n",
    "\n",
    "entry_list"
   ]
  },
  {
   "cell_type": "code",
   "execution_count": 96,
   "metadata": {},
   "outputs": [
    {
     "name": "stdout",
     "output_type": "stream",
     "text": [
      "('hello', 'hello')\n",
      "('55', '55')\n"
     ]
    }
   ],
   "source": [
    "from praatio.utilities.constants import Interval, Point\n",
    "\n",
    "interval = Interval(0, 1, \"hello\")\n",
    "print((interval.label, interval[2]))\n",
    "\n",
    "point = Point(0.5, \"55\")\n",
    "print((point.label, point[1]))"
   ]
  },
  {
   "cell_type": "code",
   "execution_count": 106,
   "metadata": {},
   "outputs": [
    {
     "data": {
      "text/html": [
       "<div>\n",
       "<style scoped>\n",
       "    .dataframe tbody tr th:only-of-type {\n",
       "        vertical-align: middle;\n",
       "    }\n",
       "\n",
       "    .dataframe tbody tr th {\n",
       "        vertical-align: top;\n",
       "    }\n",
       "\n",
       "    .dataframe thead th {\n",
       "        text-align: right;\n",
       "    }\n",
       "</style>\n",
       "<table border=\"1\" class=\"dataframe\">\n",
       "  <thead>\n",
       "    <tr style=\"text-align: right;\">\n",
       "      <th></th>\n",
       "      <th>start</th>\n",
       "      <th>end</th>\n",
       "      <th>label</th>\n",
       "    </tr>\n",
       "  </thead>\n",
       "  <tbody>\n",
       "    <tr>\n",
       "      <th>0</th>\n",
       "      <td>4.547292</td>\n",
       "      <td>4.925471</td>\n",
       "      <td>growl</td>\n",
       "    </tr>\n",
       "    <tr>\n",
       "      <th>1</th>\n",
       "      <td>5.758455</td>\n",
       "      <td>6.714218</td>\n",
       "      <td>growl</td>\n",
       "    </tr>\n",
       "    <tr>\n",
       "      <th>2</th>\n",
       "      <td>9.845208</td>\n",
       "      <td>11.536702</td>\n",
       "      <td>growl</td>\n",
       "    </tr>\n",
       "    <tr>\n",
       "      <th>3</th>\n",
       "      <td>16.133797</td>\n",
       "      <td>17.698085</td>\n",
       "      <td>growl</td>\n",
       "    </tr>\n",
       "    <tr>\n",
       "      <th>4</th>\n",
       "      <td>19.793857</td>\n",
       "      <td>21.340955</td>\n",
       "      <td>growl</td>\n",
       "    </tr>\n",
       "  </tbody>\n",
       "</table>\n",
       "</div>"
      ],
      "text/plain": [
       "       start        end  label\n",
       "0   4.547292   4.925471  growl\n",
       "1   5.758455   6.714218  growl\n",
       "2   9.845208  11.536702  growl\n",
       "3  16.133797  17.698085  growl\n",
       "4  19.793857  21.340955  growl"
      ]
     },
     "execution_count": 106,
     "metadata": {},
     "output_type": "execute_result"
    }
   ],
   "source": [
    "df = pd.DataFrame(entry_list, columns=['start', 'end', 'label'])\n",
    "df.head()"
   ]
  }
 ],
 "metadata": {
  "kernelspec": {
   "display_name": "taxifare-env",
   "language": "python",
   "name": "python3"
  },
  "language_info": {
   "codemirror_mode": {
    "name": "ipython",
    "version": 3
   },
   "file_extension": ".py",
   "mimetype": "text/x-python",
   "name": "python",
   "nbconvert_exporter": "python",
   "pygments_lexer": "ipython3",
   "version": "3.10.6"
  },
  "orig_nbformat": 4,
  "vscode": {
   "interpreter": {
    "hash": "9c019132700edc9d3af34ae64d52081a02db614f0ac60dcd0fa8b71423e4313c"
   }
  }
 },
 "nbformat": 4,
 "nbformat_minor": 2
}
